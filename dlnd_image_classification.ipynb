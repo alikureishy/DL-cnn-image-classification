{
 "cells": [
  {
   "cell_type": "markdown",
   "metadata": {
    "collapsed": true,
    "deletable": true,
    "editable": true
   },
   "source": [
    "# Image Classification\n",
    "In this project, you'll classify images from the [CIFAR-10 dataset](https://www.cs.toronto.edu/~kriz/cifar.html).  The dataset consists of airplanes, dogs, cats, and other objects. You'll preprocess the images, then train a convolutional neural network on all the samples. The images need to be normalized and the labels need to be one-hot encoded.  You'll get to apply what you learned and build a convolutional, max pooling, dropout, and fully connected layers.  At the end, you'll get to see your neural network's predictions on the sample images.\n",
    "## Get the Data\n",
    "Run the following cell to download the [CIFAR-10 dataset for python](https://www.cs.toronto.edu/~kriz/cifar-10-python.tar.gz)."
   ]
  },
  {
   "cell_type": "code",
   "execution_count": 1,
   "metadata": {
    "collapsed": false,
    "deletable": true,
    "editable": true
   },
   "outputs": [
    {
     "name": "stdout",
     "output_type": "stream",
     "text": [
      "All files found!\n"
     ]
    }
   ],
   "source": [
    "\"\"\"\n",
    "DON'T MODIFY ANYTHING IN THIS CELL THAT IS BELOW THIS LINE\n",
    "\"\"\"\n",
    "from urllib.request import urlretrieve\n",
    "from os.path import isfile, isdir\n",
    "from tqdm import tqdm\n",
    "import problem_unittests as tests\n",
    "import tarfile\n",
    "\n",
    "cifar10_dataset_folder_path = 'cifar-10-batches-py'\n",
    "\n",
    "class DLProgress(tqdm):\n",
    "    last_block = 0\n",
    "\n",
    "    def hook(self, block_num=1, block_size=1, total_size=None):\n",
    "        self.total = total_size\n",
    "        self.update((block_num - self.last_block) * block_size)\n",
    "        self.last_block = block_num\n",
    "\n",
    "if not isfile('cifar-10-python.tar.gz'):\n",
    "    with DLProgress(unit='B', unit_scale=True, miniters=1, desc='CIFAR-10 Dataset') as pbar:\n",
    "        urlretrieve(\n",
    "            'https://www.cs.toronto.edu/~kriz/cifar-10-python.tar.gz',\n",
    "            'cifar-10-python.tar.gz',\n",
    "            pbar.hook)\n",
    "\n",
    "if not isdir(cifar10_dataset_folder_path):\n",
    "    with tarfile.open('cifar-10-python.tar.gz') as tar:\n",
    "        tar.extractall()\n",
    "        tar.close()\n",
    "\n",
    "\n",
    "tests.test_folder_path(cifar10_dataset_folder_path)"
   ]
  },
  {
   "cell_type": "markdown",
   "metadata": {
    "deletable": true,
    "editable": true
   },
   "source": [
    "## Explore the Data\n",
    "The dataset is broken into batches to prevent your machine from running out of memory.  The CIFAR-10 dataset consists of 5 batches, named `data_batch_1`, `data_batch_2`, etc.. Each batch contains the labels and images that are one of the following:\n",
    "* airplane\n",
    "* automobile\n",
    "* bird\n",
    "* cat\n",
    "* deer\n",
    "* dog\n",
    "* frog\n",
    "* horse\n",
    "* ship\n",
    "* truck\n",
    "\n",
    "Understanding a dataset is part of making predictions on the data.  Play around with the code cell below by changing the `batch_id` and `sample_id`. The `batch_id` is the id for a batch (1-5). The `sample_id` is the id for a image and label pair in the batch.\n",
    "\n",
    "Ask yourself \"What are all possible labels?\", \"What is the range of values for the image data?\", \"Are the labels in order or random?\".  Answers to questions like these will help you preprocess the data and end up with better predictions."
   ]
  },
  {
   "cell_type": "code",
   "execution_count": 2,
   "metadata": {
    "collapsed": false,
    "deletable": true,
    "editable": true
   },
   "outputs": [
    {
     "name": "stdout",
     "output_type": "stream",
     "text": [
      "\n",
      "Stats of batch 3:\n",
      "Samples: 10000\n",
      "Label Counts: {0: 994, 1: 1042, 2: 965, 3: 997, 4: 990, 5: 1029, 6: 978, 7: 1015, 8: 961, 9: 1029}\n",
      "First 20 Labels: [8, 5, 0, 6, 9, 2, 8, 3, 6, 2, 7, 4, 6, 9, 0, 0, 7, 3, 7, 2]\n",
      "\n",
      "Example of Image 1:\n",
      "Image - Min Value: 15 Max Value: 249\n",
      "Image - Shape: (32, 32, 3)\n",
      "Label - Label Id: 5 Name: dog\n"
     ]
    },
    {
     "data": {
      "image/png": "[encoded data removed]",
      "text/plain": [
       "<matplotlib.figure.Figure at 0x1174a3278>"
      ]
     },
     "metadata": {
      "image/png": {
       "height": 250,
       "width": 253
      }
     },
     "output_type": "display_data"
    }
   ],
   "source": [
    "%matplotlib inline\n",
    "%config InlineBackend.figure_format = 'retina'\n",
    "\n",
    "import helper\n",
    "import numpy as np\n",
    "\n",
    "# Explore the dataset\n",
    "batch_id = 3\n",
    "sample_id = 1\n",
    "helper.display_stats(cifar10_dataset_folder_path, batch_id, sample_id)"
   ]
  },
  {
   "cell_type": "markdown",
   "metadata": {
    "deletable": true,
    "editable": true
   },
   "source": [
    "## Implement Preprocess Functions\n",
    "### Normalize\n",
    "In the cell below, implement the `normalize` function to take in image data, `x`, and return it as a normalized Numpy array. The values should be in the range of 0 to 1, inclusive.  The return object should be the same shape as `x`."
   ]
  },
  {
   "cell_type": "code",
   "execution_count": 3,
   "metadata": {
    "collapsed": false,
    "deletable": true,
    "editable": true
   },
   "outputs": [
    {
     "name": "stdout",
     "output_type": "stream",
     "text": [
      "Tests Passed\n"
     ]
    }
   ],
   "source": [
    "import cv2\n",
    "\n",
    "def normalize(x):\n",
    "    \"\"\"\n",
    "    Normalize a list of sample image data in the range of 0 to 1\n",
    "    : x: List of image data.  The image shape is (32, 32, 3)\n",
    "    : return: Numpy array of normalize data\n",
    "    \"\"\"\n",
    "    x_min = x.min(axis=(0, 1), keepdims=True)\n",
    "    x_max = x.max(axis=(0, 1), keepdims=True)\n",
    "    nx = (x - x_min)/(x_max - x_min)\n",
    "\n",
    "#     print (np.mean(x), np.std(x), np.min(x), np.max(x))\n",
    "#     print (np.mean(nx), np.std(nx), np.min(nx), np.max(nx))\n",
    "\n",
    "    return nx\n",
    "\n",
    "\n",
    "\"\"\"\n",
    "DON'T MODIFY ANYTHING IN THIS CELL THAT IS BELOW THIS LINE\n",
    "\"\"\"\n",
    "tests.test_normalize(normalize)"
   ]
  },
  {
   "cell_type": "markdown",
   "metadata": {
    "deletable": true,
    "editable": true
   },
   "source": [
    "### One-hot encode\n",
    "Just like the previous code cell, you'll be implementing a function for preprocessing.  This time, you'll implement the `one_hot_encode` function. The input, `x`, are a list of labels.  Implement the function to return the list of labels as One-Hot encoded Numpy array.  The possible values for labels are 0 to 9. The one-hot encoding function should return the same encoding for each value between each call to `one_hot_encode`.  Make sure to save the map of encodings outside the function.\n",
    "\n",
    "Hint: Don't reinvent the wheel."
   ]
  },
  {
   "cell_type": "code",
   "execution_count": 4,
   "metadata": {
    "collapsed": false,
    "deletable": true,
    "editable": true
   },
   "outputs": [
    {
     "name": "stdout",
     "output_type": "stream",
     "text": [
      "Tests Passed\n"
     ]
    }
   ],
   "source": [
    "from sklearn.preprocessing import LabelBinarizer\n",
    "\n",
    "def one_hot_encode(x):\n",
    "    \"\"\"\n",
    "    One hot encode a list of sample labels. Return a one-hot encoded vector for each label.\n",
    "    : x: List of sample Labels\n",
    "    : return: Numpy array of one-hot encoded labels\n",
    "    \"\"\"\n",
    "    # TODO: Implement Function\n",
    "    categories = list(range(10))\n",
    "    binarizer = LabelBinarizer()\n",
    "    binarizer.fit(categories)\n",
    "    encoded = binarizer.transform(x)\n",
    "    \n",
    "#     print (np.mean(encoded), np.std(encoded), np.min(encoded), np.max(encoded))\n",
    "    return encoded\n",
    "\n",
    "\"\"\"\n",
    "DON'T MODIFY ANYTHING IN THIS CELL THAT IS BELOW THIS LINE\n",
    "\"\"\"\n",
    "tests.test_one_hot_encode(one_hot_encode)"
   ]
  },
  {
   "cell_type": "markdown",
   "metadata": {
    "deletable": true,
    "editable": true
   },
   "source": [
    "### Randomize Data\n",
    "As you saw from exploring the data above, the order of the samples are randomized.  It doesn't hurt to randomize it again, but you don't need to for this dataset."
   ]
  },
  {
   "cell_type": "markdown",
   "metadata": {
    "deletable": true,
    "editable": true
   },
   "source": [
    "## Preprocess all the data and save it\n",
    "Running the code cell below will preprocess all the CIFAR-10 data and save it to file. The code below also uses 10% of the training data for validation."
   ]
  },
  {
   "cell_type": "code",
   "execution_count": 5,
   "metadata": {
    "collapsed": false,
    "deletable": true,
    "editable": true
   },
   "outputs": [
    {
     "name": "stdout",
     "output_type": "stream",
     "text": [
      "Done\n"
     ]
    }
   ],
   "source": [
    "\"\"\"\n",
    "DON'T MODIFY ANYTHING IN THIS CELL\n",
    "\"\"\"\n",
    "# Preprocess Training, Validation, and Testing Data\n",
    "helper.preprocess_and_save_data(cifar10_dataset_folder_path, normalize, one_hot_encode)\n",
    "\n",
    "print (\"Done\")"
   ]
  },
  {
   "cell_type": "markdown",
   "metadata": {
    "deletable": true,
    "editable": true
   },
   "source": [
    "# Check Point\n",
    "This is your first checkpoint.  If you ever decide to come back to this notebook or have to restart the notebook, you can start from here.  The preprocessed data has been saved to disk."
   ]
  },
  {
   "cell_type": "code",
   "execution_count": 6,
   "metadata": {
    "collapsed": false,
    "deletable": true,
    "editable": true
   },
   "outputs": [],
   "source": [
    "\"\"\"\n",
    "DON'T MODIFY ANYTHING IN THIS CELL\n",
    "\"\"\"\n",
    "import pickle\n",
    "import problem_unittests as tests\n",
    "import helper\n",
    "\n",
    "# Load the Preprocessed Validation data\n",
    "valid_features, valid_labels = pickle.load(open('preprocess_validation.p', mode='rb'))\n",
    "\n",
    "\n",
    "# print (np.mean(valid_features), np.std(valid_features))\n",
    "# print (np.min(valid_labels), np.max(valid_labels))"
   ]
  },
  {
   "cell_type": "markdown",
   "metadata": {
    "deletable": true,
    "editable": true
   },
   "source": [
    "## Build the network\n",
    "For the neural network, you'll build each layer into a function.  Most of the code you've seen has been outside of functions. To test your code more thoroughly, we require that you put each layer in a function.  This allows us to give you better feedback and test for simple mistakes using our unittests before you submit your project.\n",
    "\n",
    ">**Note:** If you're finding it hard to dedicate enough time for this course each week, we've provided a small shortcut to this part of the project. In the next couple of problems, you'll have the option to use classes from the [TensorFlow Layers](https://www.tensorflow.org/api_docs/python/tf/layers) or [TensorFlow Layers (contrib)](https://www.tensorflow.org/api_guides/python/contrib.layers) packages to build each layer, except the layers you build in the \"Convolutional and Max Pooling Layer\" section.  TF Layers is similar to Keras's and TFLearn's abstraction to layers, so it's easy to pickup.\n",
    "\n",
    ">However, if you would like to get the most out of this course, try to solve all the problems _without_ using anything from the TF Layers packages. You **can** still use classes from other packages that happen to have the same name as ones you find in TF Layers! For example, instead of using the TF Layers version of the `conv2d` class, [tf.layers.conv2d](https://www.tensorflow.org/api_docs/python/tf/layers/conv2d), you would want to use the TF Neural Network version of `conv2d`, [tf.nn.conv2d](https://www.tensorflow.org/api_docs/python/tf/nn/conv2d). \n",
    "\n",
    "Let's begin!\n",
    "\n",
    "### Input\n",
    "The neural network needs to read the image data, one-hot encoded labels, and dropout keep probability. Implement the following functions\n",
    "* Implement `neural_net_image_input`\n",
    " * Return a [TF Placeholder](https://www.tensorflow.org/api_docs/python/tf/placeholder)\n",
    " * Set the shape using `image_shape` with batch size set to `None`.\n",
    " * Name the TensorFlow placeholder \"x\" using the TensorFlow `name` parameter in the [TF Placeholder](https://www.tensorflow.org/api_docs/python/tf/placeholder).\n",
    "* Implement `neural_net_label_input`\n",
    " * Return a [TF Placeholder](https://www.tensorflow.org/api_docs/python/tf/placeholder)\n",
    " * Set the shape using `n_classes` with batch size set to `None`.\n",
    " * Name the TensorFlow placeholder \"y\" using the TensorFlow `name` parameter in the [TF Placeholder](https://www.tensorflow.org/api_docs/python/tf/placeholder).\n",
    "* Implement `neural_net_keep_prob_input`\n",
    " * Return a [TF Placeholder](https://www.tensorflow.org/api_docs/python/tf/placeholder) for dropout keep probability.\n",
    " * Name the TensorFlow placeholder \"keep_prob\" using the TensorFlow `name` parameter in the [TF Placeholder](https://www.tensorflow.org/api_docs/python/tf/placeholder).\n",
    "\n",
    "These names will be used at the end of the project to load your saved model.\n",
    "\n",
    "Note: `None` for shapes in TensorFlow allow for a dynamic size."
   ]
  },
  {
   "cell_type": "code",
   "execution_count": 7,
   "metadata": {
    "collapsed": false,
    "deletable": true,
    "editable": true
   },
   "outputs": [
    {
     "name": "stdout",
     "output_type": "stream",
     "text": [
      "Image Input Tests Passed.\n",
      "Label Input Tests Passed.\n",
      "Keep Prob Tests Passed.\n"
     ]
    }
   ],
   "source": [
    "import tensorflow as tf\n",
    "\n",
    "def neural_net_image_input(image_shape):\n",
    "    \"\"\"\n",
    "    Return a Tensor for a batch of image input\n",
    "    : image_shape: Shape of the images\n",
    "    : return: Tensor for image input.\n",
    "    \"\"\"\n",
    "    return tf.placeholder(tf.float32, [None, *image_shape], name=\"x\")\n",
    "\n",
    "def neural_net_label_input(n_classes):\n",
    "    \"\"\"\n",
    "    Return a Tensor for a batch of label input\n",
    "    : n_classes: Number of classes\n",
    "    : return: Tensor for label input.\n",
    "    \"\"\"\n",
    "    return tf.placeholder(tf.float32, [None, n_classes], name=\"y\")\n",
    "\n",
    "def neural_net_keep_prob_input():\n",
    "    \"\"\"\n",
    "    Return a Tensor for keep probability\n",
    "    : return: Tensor for keep probability.\n",
    "    \"\"\"\n",
    "    return tf.placeholder(tf.float32, name=\"keep_prob\")\n",
    "\n",
    "\"\"\"\n",
    "DON'T MODIFY ANYTHING IN THIS CELL THAT IS BELOW THIS LINE\n",
    "\"\"\"\n",
    "tf.reset_default_graph()\n",
    "tests.test_nn_image_inputs(neural_net_image_input)\n",
    "tests.test_nn_label_inputs(neural_net_label_input)\n",
    "tests.test_nn_keep_prob_inputs(neural_net_keep_prob_input)"
   ]
  },
  {
   "cell_type": "markdown",
   "metadata": {
    "deletable": true,
    "editable": true
   },
   "source": [
    "### Convolution and Max Pooling Layer\n",
    "Convolution layers have a lot of success with images. For this code cell, you should implement the function `conv2d_maxpool` to apply convolution then max pooling:\n",
    "* Create the weight and bias using `conv_ksize`, `conv_num_outputs` and the shape of `x_tensor`.\n",
    "* Apply a convolution to `x_tensor` using weight and `conv_strides`.\n",
    " * We recommend you use same padding, but you're welcome to use any padding.\n",
    "* Add bias\n",
    "* Add a nonlinear activation to the convolution.\n",
    "* Apply Max Pooling using `pool_ksize` and `pool_strides`.\n",
    " * We recommend you use same padding, but you're welcome to use any padding.\n",
    "\n",
    "**Note:** You **can't** use [TensorFlow Layers](https://www.tensorflow.org/api_docs/python/tf/layers) or [TensorFlow Layers (contrib)](https://www.tensorflow.org/api_guides/python/contrib.layers) for **this** layer, but you can still use TensorFlow's [Neural Network](https://www.tensorflow.org/api_docs/python/tf/nn) package. You may still use the shortcut option for all the **other** layers."
   ]
  },
  {
   "cell_type": "code",
   "execution_count": 8,
   "metadata": {
    "collapsed": false,
    "deletable": true,
    "editable": true
   },
   "outputs": [
    {
     "name": "stdout",
     "output_type": "stream",
     "text": [
      "Tests Passed\n"
     ]
    }
   ],
   "source": [
    "from math import ceil\n",
    "\n",
    "def conv2d_maxpool(x_tensor, conv_num_outputs, conv_ksize, conv_strides, pool_ksize, pool_strides):\n",
    "    \"\"\"\n",
    "    Apply convolution then max pooling to x_tensor\n",
    "    :param x_tensor: TensorFlow Tensor\n",
    "    :param conv_num_outputs: Number of outputs for the convolutional layer\n",
    "    :param conv_ksize: kernal size 2-D Tuple for the convolutional layer\n",
    "    :param conv_strides: Stride 2-D Tuple for convolution\n",
    "    :param pool_ksize: kernal size 2-D Tuple for pool\n",
    "    :param pool_strides: Stride 2-D Tuple for pool\n",
    "    : return: A tensor that represents convolution and max pooling of x_tensor\n",
    "    \"\"\"\n",
    "#     print (x_tensor.shape, conv_num_outputs, conv_ksize, conv_strides, pool_ksize, pool_strides)\n",
    "    filter_size = conv_ksize\n",
    "    num_input_filters = x_tensor.get_shape().as_list()[3]\n",
    "    num_output_filters = conv_num_outputs\n",
    "    shape = [*filter_size, num_input_filters, num_output_filters]\n",
    "\n",
    "    weights = tf.Variable(tf.truncated_normal(shape, mean=0.0, stddev=0.05, dtype=tf.float32))\n",
    "    biases = tf.Variable(tf.zeros(shape=[num_output_filters], dtype=tf.float32))\n",
    "\n",
    "    layer = tf.nn.conv2d(input=x_tensor, filter=weights, strides=[1, *conv_strides, 1], padding='SAME')\n",
    "    layer = tf.nn.bias_add(layer, biases)\n",
    "    layer = tf.nn.relu(layer)\n",
    "    layer = tf.nn.max_pool(value=layer, ksize=[1, *pool_ksize, 1], strides=[1, *pool_strides, 1], padding='SAME')\n",
    "    return layer\n",
    "\n",
    "\n",
    "\"\"\"\n",
    "DON'T MODIFY ANYTHING IN THIS CELL THAT IS BELOW THIS LINE\n",
    "\"\"\"\n",
    "tests.test_con_pool(conv2d_maxpool)"
   ]
  },
  {
   "cell_type": "markdown",
   "metadata": {
    "deletable": true,
    "editable": true
   },
   "source": [
    "### Flatten Layer\n",
    "Implement the `flatten` function to change the dimension of `x_tensor` from a 4-D tensor to a 2-D tensor.  The output should be the shape (*Batch Size*, *Flattened Image Size*). Shortcut option: you can use classes from the [TensorFlow Layers](https://www.tensorflow.org/api_docs/python/tf/layers) or [TensorFlow Layers (contrib)](https://www.tensorflow.org/api_guides/python/contrib.layers) packages for this layer. For more of a challenge, only use other TensorFlow packages."
   ]
  },
  {
   "cell_type": "code",
   "execution_count": 9,
   "metadata": {
    "collapsed": false,
    "deletable": true,
    "editable": true
   },
   "outputs": [
    {
     "name": "stdout",
     "output_type": "stream",
     "text": [
      "Tests Passed\n"
     ]
    }
   ],
   "source": [
    "def flatten(x_tensor):\n",
    "    \"\"\"\n",
    "    Flatten x_tensor to (Batch Size, Flattened Image Size)\n",
    "    : x_tensor: A tensor of size (Batch Size, ...), where ... are the image dimensions.\n",
    "    : return: A tensor of size (Batch Size, Flattened Image Size).\n",
    "    \"\"\"\n",
    "    layer_shape = x_tensor.get_shape()\n",
    "    num_features = layer_shape[1:4].num_elements()\n",
    "    layer_flat1 = tf.reshape(x_tensor, [-1, num_features])\n",
    "    return layer_flat1\n",
    "\n",
    "\n",
    "\"\"\"\n",
    "DON'T MODIFY ANYTHING IN THIS CELL THAT IS BELOW THIS LINE\n",
    "\"\"\"\n",
    "tests.test_flatten(flatten)"
   ]
  },
  {
   "cell_type": "markdown",
   "metadata": {
    "deletable": true,
    "editable": true
   },
   "source": [
    "### Fully-Connected Layer\n",
    "Implement the `fully_conn` function to apply a fully connected layer to `x_tensor` with the shape (*Batch Size*, *num_outputs*). Shortcut option: you can use classes from the [TensorFlow Layers](https://www.tensorflow.org/api_docs/python/tf/layers) or [TensorFlow Layers (contrib)](https://www.tensorflow.org/api_guides/python/contrib.layers) packages for this layer. For more of a challenge, only use other TensorFlow packages."
   ]
  },
  {
   "cell_type": "code",
   "execution_count": 10,
   "metadata": {
    "collapsed": false,
    "deletable": true,
    "editable": true
   },
   "outputs": [
    {
     "name": "stdout",
     "output_type": "stream",
     "text": [
      "Tests Passed\n"
     ]
    }
   ],
   "source": [
    "def fully_conn(x_tensor, num_outputs):\n",
    "    \"\"\"\n",
    "    Apply a fully connected layer to x_tensor using weight and bias\n",
    "    : x_tensor: A 2-D tensor where the first dimension is batch size.\n",
    "    : num_outputs: The number of output that the new tensor should be.\n",
    "    : return: A 2-D tensor where the second dimension is num_outputs.\n",
    "    \"\"\"\n",
    "    num_inputs = x_tensor.get_shape().as_list()[1]\n",
    "    shape = [num_inputs, num_outputs]\n",
    "    weights = tf.Variable(tf.truncated_normal(shape, mean=0.0, stddev=0.05, dtype=tf.float32))\n",
    "    biases = tf.Variable(tf.zeros(shape=[num_outputs], dtype=tf.float32))\n",
    "    layer = tf.matmul(x_tensor, weights) + biases\n",
    "    layer = tf.nn.relu(layer)\n",
    "    return layer\n",
    "\n",
    "\n",
    "\"\"\"\n",
    "DON'T MODIFY ANYTHING IN THIS CELL THAT IS BELOW THIS LINE\n",
    "\"\"\"\n",
    "tests.test_fully_conn(fully_conn)"
   ]
  },
  {
   "cell_type": "markdown",
   "metadata": {
    "deletable": true,
    "editable": true
   },
   "source": [
    "### Output Layer\n",
    "Implement the `output` function to apply a fully connected layer to `x_tensor` with the shape (*Batch Size*, *num_outputs*). Shortcut option: you can use classes from the [TensorFlow Layers](https://www.tensorflow.org/api_docs/python/tf/layers) or [TensorFlow Layers (contrib)](https://www.tensorflow.org/api_guides/python/contrib.layers) packages for this layer. For more of a challenge, only use other TensorFlow packages.\n",
    "\n",
    "**Note:** Activation, softmax, or cross entropy should **not** be applied to this."
   ]
  },
  {
   "cell_type": "code",
   "execution_count": 11,
   "metadata": {
    "collapsed": false,
    "deletable": true,
    "editable": true
   },
   "outputs": [
    {
     "name": "stdout",
     "output_type": "stream",
     "text": [
      "Tests Passed\n"
     ]
    }
   ],
   "source": [
    "def output(x_tensor, num_outputs):\n",
    "    \"\"\"\n",
    "    Apply a output layer to x_tensor using weight and bias\n",
    "    : x_tensor: A 2-D tensor where the first dimension is batch size.\n",
    "    : num_outputs: The number of output that the new tensor should be.\n",
    "    : return: A 2-D tensor where the second dimension is num_outputs.\n",
    "    \"\"\"\n",
    "    num_inputs = x_tensor.get_shape().as_list()[1]\n",
    "    shape = [num_inputs, num_outputs]\n",
    "    weights = tf.Variable(tf.truncated_normal(shape, mean=0.0, stddev=0.05, dtype=tf.float32))\n",
    "    biases = tf.Variable(tf.zeros(shape=[num_outputs], dtype=tf.float32))\n",
    "    layer = tf.matmul(x_tensor, weights) + biases\n",
    "    layer = tf.nn.softmax(layer)\n",
    "    return layer\n",
    "\n",
    "\n",
    "\"\"\"\n",
    "DON'T MODIFY ANYTHING IN THIS CELL THAT IS BELOW THIS LINE\n",
    "\"\"\"\n",
    "tests.test_output(output)"
   ]
  },
  {
   "cell_type": "markdown",
   "metadata": {
    "deletable": true,
    "editable": true
   },
   "source": [
    "### Create Convolutional Model\n",
    "Implement the function `conv_net` to create a convolutional neural network model. The function takes in a batch of images, `x`, and outputs logits.  Use the layers you created above to create this model:\n",
    "\n",
    "* Apply 1, 2, or 3 Convolution and Max Pool layers\n",
    "* Apply a Flatten Layer\n",
    "* Apply 1, 2, or 3 Fully Connected Layers\n",
    "* Apply an Output Layer\n",
    "* Return the output\n",
    "* Apply [TensorFlow's Dropout](https://www.tensorflow.org/api_docs/python/tf/nn/dropout) to one or more layers in the model using `keep_prob`. "
   ]
  },
  {
   "cell_type": "code",
   "execution_count": 12,
   "metadata": {
    "collapsed": false,
    "deletable": true,
    "editable": true
   },
   "outputs": [
    {
     "name": "stdout",
     "output_type": "stream",
     "text": [
      "Neural Network Built!\n"
     ]
    }
   ],
   "source": [
    "def conv_net(x, keep_prob):\n",
    "    \"\"\"\n",
    "    Create a convolutional neural network model\n",
    "    : x: Placeholder tensor that holds image data.\n",
    "    : keep_prob: Placeholder tensor that hold dropout keep probability.\n",
    "    : return: Tensor that represents logits\n",
    "    \"\"\"\n",
    "    # TODO: Apply 1, 2, or 3 Convolution and Max Pool layers\n",
    "    #    Play around with different number of outputs, kernel size and stride\n",
    "    # Function Definition from Above:\n",
    "    #    conv2d_maxpool(x_tensor, conv_num_outputs, conv_ksize, conv_strides, pool_ksize, pool_strides)\n",
    "#     layer = conv2d_maxpool(x, 8, [3,3], [1,1], [2,2], [2,2])\n",
    "#     layer = conv2d_maxpool(x, 16, [3,3], [1,1], [2,2], [2,2])\n",
    "#     layer = conv2d_maxpool(x, 32, [3,3], [1,1], [2,2], [2,2]) \n",
    "\n",
    "    layer = conv2d_maxpool(x, 8, [5,5], [1,1], [3,3], [3,3])\n",
    "    layer = conv2d_maxpool(x, 16, [3,3], [1,1], [2,2], [2,2])\n",
    "    layer = tf.nn.dropout(layer, keep_prob)\n",
    "\n",
    "    # TODO: Apply a Flatten Layer\n",
    "    # Function Definition from Above:\n",
    "    #   flatten(x_tensor)\n",
    "    layer = flatten(layer)\n",
    "#     layer = tf.nn.dropout(layer, keep_prob)\n",
    "\n",
    "    # TODO: Apply 1, 2, or 3 Fully Connected Layers\n",
    "    #    Play around with different number of outputs\n",
    "    # Function Definition from Above:\n",
    "    #   fully_conn(x_tensor, num_outputs)\n",
    "#     layer = fully_conn(layer, 64)\n",
    "#     layer = fully_conn(layer, 32)\n",
    "    layer = fully_conn(layer, 128)\n",
    "    layer = fully_conn(layer, 64)\n",
    "#     layer = tf.nn.dropout(layer, keep_prob)\n",
    "    \n",
    "    # TODO: Apply an Output Layer\n",
    "    #    Set this to the number of classes\n",
    "    # Function Definition from Above:\n",
    "    #   output(x_tensor, num_outputs)\n",
    "    layer = output(layer, 10)\n",
    "    \n",
    "    # TODO: return output\n",
    "    return layer\n",
    "\n",
    "\n",
    "\"\"\"\n",
    "DON'T MODIFY ANYTHING IN THIS CELL THAT IS BELOW THIS LINE\n",
    "\"\"\"\n",
    "\n",
    "##############################\n",
    "## Build the Neural Network ##\n",
    "##############################\n",
    "\n",
    "# Remove previous weights, bias, inputs, etc..\n",
    "tf.reset_default_graph()\n",
    "\n",
    "# Inputs\n",
    "x = neural_net_image_input((32, 32, 3))\n",
    "y = neural_net_label_input(10)\n",
    "keep_prob = neural_net_keep_prob_input()\n",
    "\n",
    "# Model\n",
    "logits = conv_net(x, keep_prob)\n",
    "\n",
    "# Name logits Tensor, so that is can be loaded from disk after training\n",
    "logits = tf.identity(logits, name='logits')\n",
    "\n",
    "# Loss and Optimizer\n",
    "cost = tf.reduce_mean(tf.nn.softmax_cross_entropy_with_logits(logits=logits, labels=y))\n",
    "optimizer = tf.train.AdamOptimizer().minimize(cost)\n",
    "\n",
    "# Accuracy\n",
    "correct_pred = tf.equal(tf.argmax(logits, 1), tf.argmax(y, 1))\n",
    "accuracy = tf.reduce_mean(tf.cast(correct_pred, tf.float32), name='accuracy')\n",
    "\n",
    "tests.test_conv_net(conv_net)"
   ]
  },
  {
   "cell_type": "markdown",
   "metadata": {
    "deletable": true,
    "editable": true
   },
   "source": [
    "## Train the Neural Network\n",
    "### Single Optimization\n",
    "Implement the function `train_neural_network` to do a single optimization.  The optimization should use `optimizer` to optimize in `session` with a `feed_dict` of the following:\n",
    "* `x` for image input\n",
    "* `y` for labels\n",
    "* `keep_prob` for keep probability for dropout\n",
    "\n",
    "This function will be called for each batch, so `tf.global_variables_initializer()` has already been called.\n",
    "\n",
    "Note: Nothing needs to be returned. This function is only optimizing the neural network."
   ]
  },
  {
   "cell_type": "code",
   "execution_count": 13,
   "metadata": {
    "collapsed": false,
    "deletable": true,
    "editable": true
   },
   "outputs": [
    {
     "name": "stdout",
     "output_type": "stream",
     "text": [
      "Tests Passed\n"
     ]
    }
   ],
   "source": [
    "def train_neural_network(session, optimizer, keep_probability, feature_batch, label_batch):\n",
    "    \"\"\"\n",
    "    Optimize the session on a batch of images and labels\n",
    "    : session: Current TensorFlow session\n",
    "    : optimizer: TensorFlow optimizer function\n",
    "    : keep_probability: keep probability\n",
    "    : feature_batch: Batch of Numpy image data\n",
    "    : label_batch: Batch of Numpy label data\n",
    "    \"\"\"\n",
    "    return session.run(optimizer, feed_dict={\n",
    "        x: feature_batch, \n",
    "        y: label_batch, \n",
    "        keep_prob: keep_probability})\n",
    "\n",
    "\n",
    "\"\"\"\n",
    "DON'T MODIFY ANYTHING IN THIS CELL THAT IS BELOW THIS LINE\n",
    "\"\"\"\n",
    "tests.test_train_nn(train_neural_network)"
   ]
  },
  {
   "cell_type": "markdown",
   "metadata": {
    "deletable": true,
    "editable": true
   },
   "source": [
    "### Show Stats\n",
    "Implement the function `print_stats` to print loss and validation accuracy.  Use the global variables `valid_features` and `valid_labels` to calculate validation accuracy.  Use a keep probability of `1.0` to calculate the loss and validation accuracy."
   ]
  },
  {
   "cell_type": "code",
   "execution_count": 14,
   "metadata": {
    "collapsed": false,
    "deletable": true,
    "editable": true
   },
   "outputs": [],
   "source": [
    "def print_stats(session, feature_batch, label_batch, cost, accuracy):\n",
    "    \"\"\"\n",
    "    Print information about loss and validation accuracy\n",
    "    : session: Current TensorFlow session\n",
    "    : feature_batch: Batch of Numpy image data\n",
    "    : label_batch: Batch of Numpy label data\n",
    "    : cost: TensorFlow cost function\n",
    "    : accuracy: TensorFlow accuracy function\n",
    "    \"\"\"\n",
    "    # Calculate loss\n",
    "    loss = sess.run(cost, feed_dict={\n",
    "        x: feature_batch,\n",
    "        y: label_batch,\n",
    "        keep_prob: 1.0})\n",
    "    \n",
    "    # Calculate accuracy\n",
    "    validation_accuracy = sess.run(accuracy, feed_dict={\n",
    "        x: valid_features,\n",
    "        y: valid_labels,\n",
    "        keep_prob: 1.0})\n",
    "    print (\"Loss: {} \\t Accuracy: {}\".format(loss, validation_accuracy))\n",
    "\n",
    "    pass"
   ]
  },
  {
   "cell_type": "markdown",
   "metadata": {
    "deletable": true,
    "editable": true
   },
   "source": [
    "### Hyperparameters\n",
    "Tune the following parameters:\n",
    "* Set `epochs` to the number of iterations until the network stops learning or start overfitting\n",
    "* Set `batch_size` to the highest number that your machine has memory for.  Most people set them to common sizes of memory:\n",
    " * 64\n",
    " * 128\n",
    " * 256\n",
    " * ...\n",
    "* Set `keep_probability` to the probability of keeping a node using dropout"
   ]
  },
  {
   "cell_type": "code",
   "execution_count": 18,
   "metadata": {
    "collapsed": true,
    "deletable": true,
    "editable": true
   },
   "outputs": [],
   "source": [
    "# TODO: Tune Parameters\n",
    "epochs = 35\n",
    "batch_size = 128\n",
    "keep_probability = 0.5"
   ]
  },
  {
   "cell_type": "markdown",
   "metadata": {
    "deletable": true,
    "editable": true
   },
   "source": [
    "### Train on a Single CIFAR-10 Batch\n",
    "Instead of training the neural network on all the CIFAR-10 batches of data, let's use a single batch. This should save time while you iterate on the model to get a better accuracy.  Once the final validation accuracy is 50% or greater, run the model on all the data in the next section."
   ]
  },
  {
   "cell_type": "code",
   "execution_count": 19,
   "metadata": {
    "collapsed": false,
    "deletable": true,
    "editable": true
   },
   "outputs": [
    {
     "name": "stdout",
     "output_type": "stream",
     "text": [
      "Checking the Training on a Single Batch...\n",
      "Epoch  1, CIFAR-10 Batch 1:  Loss: 2.2209632396698 \t Accuracy: 0.24860000610351562\n",
      "Epoch  2, CIFAR-10 Batch 1:  Loss: 2.21095609664917 \t Accuracy: 0.28519999980926514\n",
      "Epoch  3, CIFAR-10 Batch 1:  Loss: 2.192425012588501 \t Accuracy: 0.3230000138282776\n",
      "Epoch  4, CIFAR-10 Batch 1:  Loss: 2.114759922027588 \t Accuracy: 0.36640000343322754\n",
      "Epoch  5, CIFAR-10 Batch 1:  Loss: 2.0972354412078857 \t Accuracy: 0.36399999260902405\n",
      "Epoch  6, CIFAR-10 Batch 1:  Loss: 2.0420615673065186 \t Accuracy: 0.3917999863624573\n",
      "Epoch  7, CIFAR-10 Batch 1:  Loss: 2.013754367828369 \t Accuracy: 0.4052000045776367\n",
      "Epoch  8, CIFAR-10 Batch 1:  Loss: 1.991908311843872 \t Accuracy: 0.4147999882698059\n",
      "Epoch  9, CIFAR-10 Batch 1:  Loss: 1.9833862781524658 \t Accuracy: 0.4284000098705292\n",
      "Epoch 10, CIFAR-10 Batch 1:  Loss: 1.9584633111953735 \t Accuracy: 0.43299999833106995\n",
      "Epoch 11, CIFAR-10 Batch 1:  Loss: 1.9272693395614624 \t Accuracy: 0.44679999351501465\n",
      "Epoch 12, CIFAR-10 Batch 1:  Loss: 1.9023067951202393 \t Accuracy: 0.4498000144958496\n",
      "Epoch 13, CIFAR-10 Batch 1:  Loss: 1.9032623767852783 \t Accuracy: 0.451200008392334\n",
      "Epoch 14, CIFAR-10 Batch 1:  Loss: 1.857149362564087 \t Accuracy: 0.4733999967575073\n",
      "Epoch 15, CIFAR-10 Batch 1:  Loss: 1.8476123809814453 \t Accuracy: 0.47380000352859497\n",
      "Epoch 16, CIFAR-10 Batch 1:  Loss: 1.8358275890350342 \t Accuracy: 0.4697999954223633\n",
      "Epoch 17, CIFAR-10 Batch 1:  Loss: 1.8253116607666016 \t Accuracy: 0.4620000123977661\n",
      "Epoch 18, CIFAR-10 Batch 1:  Loss: 1.8259031772613525 \t Accuracy: 0.4747999906539917\n",
      "Epoch 19, CIFAR-10 Batch 1:  Loss: 1.8288543224334717 \t Accuracy: 0.4713999927043915\n",
      "Epoch 20, CIFAR-10 Batch 1:  Loss: 1.8079313039779663 \t Accuracy: 0.47699999809265137\n",
      "Epoch 21, CIFAR-10 Batch 1:  Loss: 1.8121376037597656 \t Accuracy: 0.4781999886035919\n",
      "Epoch 22, CIFAR-10 Batch 1:  Loss: 1.8067855834960938 \t Accuracy: 0.49239999055862427\n",
      "Epoch 23, CIFAR-10 Batch 1:  Loss: 1.786587119102478 \t Accuracy: 0.5016000270843506\n",
      "Epoch 24, CIFAR-10 Batch 1:  Loss: 1.7827990055084229 \t Accuracy: 0.498199999332428\n",
      "Epoch 25, CIFAR-10 Batch 1:  Loss: 1.7773942947387695 \t Accuracy: 0.4950000047683716\n",
      "Epoch 26, CIFAR-10 Batch 1:  Loss: 1.774651288986206 \t Accuracy: 0.49140000343322754\n",
      "Epoch 27, CIFAR-10 Batch 1:  Loss: 1.7756385803222656 \t Accuracy: 0.49059998989105225\n",
      "Epoch 28, CIFAR-10 Batch 1:  Loss: 1.7638804912567139 \t Accuracy: 0.5005999803543091\n",
      "Epoch 29, CIFAR-10 Batch 1:  Loss: 1.775644302368164 \t Accuracy: 0.5008000135421753\n",
      "Epoch 30, CIFAR-10 Batch 1:  Loss: 1.7739944458007812 \t Accuracy: 0.5016000270843506\n",
      "Epoch 31, CIFAR-10 Batch 1:  Loss: 1.7661182880401611 \t Accuracy: 0.5055999755859375\n",
      "Epoch 32, CIFAR-10 Batch 1:  Loss: 1.7773199081420898 \t Accuracy: 0.5034000277519226\n",
      "Epoch 33, CIFAR-10 Batch 1:  Loss: 1.7595332860946655 \t Accuracy: 0.5113999843597412\n",
      "Epoch 34, CIFAR-10 Batch 1:  Loss: 1.7637042999267578 \t Accuracy: 0.4997999966144562\n",
      "Epoch 35, CIFAR-10 Batch 1:  Loss: 1.7656913995742798 \t Accuracy: 0.5105999708175659\n"
     ]
    }
   ],
   "source": [
    "\"\"\"\n",
    "DON'T MODIFY ANYTHING IN THIS CELL\n",
    "\"\"\"\n",
    "print('Checking the Training on a Single Batch...')\n",
    "with tf.Session() as sess:\n",
    "    # Initializing the variables\n",
    "    sess.run(tf.global_variables_initializer())\n",
    "    \n",
    "    # Training cycle\n",
    "    for epoch in range(epochs):\n",
    "        batch_i = 1\n",
    "        for batch_features, batch_labels in helper.load_preprocess_training_batch(batch_i, batch_size):\n",
    "#             print (np.mean(batch_features), np.std(batch_features), np.min(batch_features), np.max(batch_features))\n",
    "            train_neural_network(sess, optimizer, keep_probability, batch_features, batch_labels)\n",
    "        print('Epoch {:>2}, CIFAR-10 Batch {}:  '.format(epoch + 1, batch_i), end='')\n",
    "        print_stats(sess, batch_features, batch_labels, cost, accuracy)"
   ]
  },
  {
   "cell_type": "markdown",
   "metadata": {
    "deletable": true,
    "editable": true
   },
   "source": [
    "### Fully Train the Model\n",
    "Now that you got a good accuracy with a single CIFAR-10 batch, try it with all five batches."
   ]
  },
  {
   "cell_type": "code",
   "execution_count": 21,
   "metadata": {
    "collapsed": false,
    "deletable": true,
    "editable": true
   },
   "outputs": [
    {
     "name": "stdout",
     "output_type": "stream",
     "text": [
      "Training...\n",
      "Epoch  1, CIFAR-10 Batch 1:  Loss: 2.2408742904663086 \t Accuracy: 0.25459998846054077\n",
      "Epoch  1, CIFAR-10 Batch 2:  Loss: 2.155604124069214 \t Accuracy: 0.26660001277923584\n",
      "Epoch  1, CIFAR-10 Batch 3:  Loss: 2.101409912109375 \t Accuracy: 0.3174000084400177\n",
      "Epoch  1, CIFAR-10 Batch 4:  Loss: 2.0804543495178223 \t Accuracy: 0.3240000009536743\n",
      "Epoch  1, CIFAR-10 Batch 5:  Loss: 2.0767323970794678 \t Accuracy: 0.3481999933719635\n",
      "Epoch  2, CIFAR-10 Batch 1:  Loss: 2.104403018951416 \t Accuracy: 0.3783999979496002\n",
      "Epoch  2, CIFAR-10 Batch 2:  Loss: 2.0387682914733887 \t Accuracy: 0.3928000032901764\n",
      "Epoch  2, CIFAR-10 Batch 3:  Loss: 2.05867862701416 \t Accuracy: 0.39800000190734863\n",
      "Epoch  2, CIFAR-10 Batch 4:  Loss: 2.0215587615966797 \t Accuracy: 0.40860000252723694\n",
      "Epoch  2, CIFAR-10 Batch 5:  Loss: 2.0844955444335938 \t Accuracy: 0.3970000147819519\n",
      "Epoch  3, CIFAR-10 Batch 1:  Loss: 2.005519390106201 \t Accuracy: 0.40799999237060547\n",
      "Epoch  3, CIFAR-10 Batch 2:  Loss: 1.9903843402862549 \t Accuracy: 0.43880000710487366\n",
      "Epoch  3, CIFAR-10 Batch 3:  Loss: 1.9211537837982178 \t Accuracy: 0.45080000162124634\n",
      "Epoch  3, CIFAR-10 Batch 4:  Loss: 1.9475666284561157 \t Accuracy: 0.44780001044273376\n",
      "Epoch  3, CIFAR-10 Batch 5:  Loss: 2.025941848754883 \t Accuracy: 0.4474000036716461\n",
      "Epoch  4, CIFAR-10 Batch 1:  Loss: 2.0133273601531982 \t Accuracy: 0.4456000030040741\n",
      "Epoch  4, CIFAR-10 Batch 2:  Loss: 1.9159187078475952 \t Accuracy: 0.4643999934196472\n",
      "Epoch  4, CIFAR-10 Batch 3:  Loss: 1.817521095275879 \t Accuracy: 0.47780001163482666\n",
      "Epoch  4, CIFAR-10 Batch 4:  Loss: 1.935949683189392 \t Accuracy: 0.47040000557899475\n",
      "Epoch  4, CIFAR-10 Batch 5:  Loss: 1.976503610610962 \t Accuracy: 0.48660001158714294\n",
      "Epoch  5, CIFAR-10 Batch 1:  Loss: 1.9632723331451416 \t Accuracy: 0.48339998722076416\n",
      "Epoch  5, CIFAR-10 Batch 2:  Loss: 1.856661081314087 \t Accuracy: 0.4950000047683716\n",
      "Epoch  5, CIFAR-10 Batch 3:  Loss: 1.8179954290390015 \t Accuracy: 0.4959999918937683\n",
      "Epoch  5, CIFAR-10 Batch 4:  Loss: 1.9189567565917969 \t Accuracy: 0.5001999735832214\n",
      "Epoch  5, CIFAR-10 Batch 5:  Loss: 1.9530646800994873 \t Accuracy: 0.5012000203132629\n",
      "Epoch  6, CIFAR-10 Batch 1:  Loss: 1.9251559972763062 \t Accuracy: 0.5013999938964844\n",
      "Epoch  6, CIFAR-10 Batch 2:  Loss: 1.8553543090820312 \t Accuracy: 0.49939998984336853\n",
      "Epoch  6, CIFAR-10 Batch 3:  Loss: 1.7634227275848389 \t Accuracy: 0.5112000107765198\n",
      "Epoch  6, CIFAR-10 Batch 4:  Loss: 1.8857218027114868 \t Accuracy: 0.503600001335144\n",
      "Epoch  6, CIFAR-10 Batch 5:  Loss: 1.880488395690918 \t Accuracy: 0.5242000222206116\n",
      "Epoch  7, CIFAR-10 Batch 1:  Loss: 1.9510329961776733 \t Accuracy: 0.5094000101089478\n",
      "Epoch  7, CIFAR-10 Batch 2:  Loss: 1.902734398841858 \t Accuracy: 0.5058000087738037\n",
      "Epoch  7, CIFAR-10 Batch 3:  Loss: 1.7540528774261475 \t Accuracy: 0.5224000215530396\n",
      "Epoch  7, CIFAR-10 Batch 4:  Loss: 1.8526694774627686 \t Accuracy: 0.5184000134468079\n",
      "Epoch  7, CIFAR-10 Batch 5:  Loss: 1.9267065525054932 \t Accuracy: 0.517799973487854\n",
      "Epoch  8, CIFAR-10 Batch 1:  Loss: 1.8854268789291382 \t Accuracy: 0.5288000106811523\n",
      "Epoch  8, CIFAR-10 Batch 2:  Loss: 1.850203275680542 \t Accuracy: 0.5228000283241272\n",
      "Epoch  8, CIFAR-10 Batch 3:  Loss: 1.8003146648406982 \t Accuracy: 0.5004000067710876\n",
      "Epoch  8, CIFAR-10 Batch 4:  Loss: 1.8159244060516357 \t Accuracy: 0.5370000004768372\n",
      "Epoch  8, CIFAR-10 Batch 5:  Loss: 1.8782764673233032 \t Accuracy: 0.5297999978065491\n",
      "Epoch  9, CIFAR-10 Batch 1:  Loss: 1.9094035625457764 \t Accuracy: 0.5199999809265137\n",
      "Epoch  9, CIFAR-10 Batch 2:  Loss: 1.838422417640686 \t Accuracy: 0.526199996471405\n",
      "Epoch  9, CIFAR-10 Batch 3:  Loss: 1.7472331523895264 \t Accuracy: 0.5347999930381775\n",
      "Epoch  9, CIFAR-10 Batch 4:  Loss: 1.8234847784042358 \t Accuracy: 0.5397999882698059\n",
      "Epoch  9, CIFAR-10 Batch 5:  Loss: 1.8605976104736328 \t Accuracy: 0.5386000275611877\n",
      "Epoch 10, CIFAR-10 Batch 1:  Loss: 1.8672094345092773 \t Accuracy: 0.5278000235557556\n",
      "Epoch 10, CIFAR-10 Batch 2:  Loss: 1.8343334197998047 \t Accuracy: 0.5293999910354614\n",
      "Epoch 10, CIFAR-10 Batch 3:  Loss: 1.7056490182876587 \t Accuracy: 0.5347999930381775\n",
      "Epoch 10, CIFAR-10 Batch 4:  Loss: 1.8615472316741943 \t Accuracy: 0.5410000085830688\n",
      "Epoch 10, CIFAR-10 Batch 5:  Loss: 1.867300033569336 \t Accuracy: 0.5450000166893005\n",
      "Epoch 11, CIFAR-10 Batch 1:  Loss: 1.8135879039764404 \t Accuracy: 0.5392000079154968\n",
      "Epoch 11, CIFAR-10 Batch 2:  Loss: 1.779313087463379 \t Accuracy: 0.5393999814987183\n",
      "Epoch 11, CIFAR-10 Batch 3:  Loss: 1.7243064641952515 \t Accuracy: 0.5442000031471252\n",
      "Epoch 11, CIFAR-10 Batch 4:  Loss: 1.8254451751708984 \t Accuracy: 0.546999990940094\n",
      "Epoch 11, CIFAR-10 Batch 5:  Loss: 1.85579514503479 \t Accuracy: 0.5454000234603882\n",
      "Epoch 12, CIFAR-10 Batch 1:  Loss: 1.8308559656143188 \t Accuracy: 0.5465999841690063\n",
      "Epoch 12, CIFAR-10 Batch 2:  Loss: 1.803396463394165 \t Accuracy: 0.5335999727249146\n",
      "Epoch 12, CIFAR-10 Batch 3:  Loss: 1.738146424293518 \t Accuracy: 0.5396000146865845\n",
      "Epoch 12, CIFAR-10 Batch 4:  Loss: 1.7933441400527954 \t Accuracy: 0.5526000261306763\n",
      "Epoch 12, CIFAR-10 Batch 5:  Loss: 1.8808581829071045 \t Accuracy: 0.5529999732971191\n",
      "Epoch 13, CIFAR-10 Batch 1:  Loss: 1.7934459447860718 \t Accuracy: 0.5559999942779541\n",
      "Epoch 13, CIFAR-10 Batch 2:  Loss: 1.763321876525879 \t Accuracy: 0.5443999767303467\n",
      "Epoch 13, CIFAR-10 Batch 3:  Loss: 1.6945568323135376 \t Accuracy: 0.5562000274658203\n",
      "Epoch 13, CIFAR-10 Batch 4:  Loss: 1.8074877262115479 \t Accuracy: 0.5537999868392944\n",
      "Epoch 13, CIFAR-10 Batch 5:  Loss: 1.8483173847198486 \t Accuracy: 0.5612000226974487\n",
      "Epoch 14, CIFAR-10 Batch 1:  Loss: 1.7793813943862915 \t Accuracy: 0.548799991607666\n",
      "Epoch 14, CIFAR-10 Batch 2:  Loss: 1.7572059631347656 \t Accuracy: 0.5623999834060669\n",
      "Epoch 14, CIFAR-10 Batch 3:  Loss: 1.7113888263702393 \t Accuracy: 0.5443999767303467\n",
      "Epoch 14, CIFAR-10 Batch 4:  Loss: 1.8119224309921265 \t Accuracy: 0.5509999990463257\n",
      "Epoch 14, CIFAR-10 Batch 5:  Loss: 1.8494231700897217 \t Accuracy: 0.5568000078201294\n",
      "Epoch 15, CIFAR-10 Batch 1:  Loss: 1.7877565622329712 \t Accuracy: 0.5551999807357788\n",
      "Epoch 15, CIFAR-10 Batch 2:  Loss: 1.7555267810821533 \t Accuracy: 0.5576000213623047\n",
      "Epoch 15, CIFAR-10 Batch 3:  Loss: 1.686008095741272 \t Accuracy: 0.5483999848365784\n",
      "Epoch 15, CIFAR-10 Batch 4:  Loss: 1.802520513534546 \t Accuracy: 0.5672000050544739\n",
      "Epoch 15, CIFAR-10 Batch 5:  Loss: 1.847477674484253 \t Accuracy: 0.5586000084877014\n",
      "Epoch 16, CIFAR-10 Batch 1:  Loss: 1.7817754745483398 \t Accuracy: 0.5616000294685364\n",
      "Epoch 16, CIFAR-10 Batch 2:  Loss: 1.7337532043457031 \t Accuracy: 0.5630000233650208\n",
      "Epoch 16, CIFAR-10 Batch 3:  Loss: 1.7106002569198608 \t Accuracy: 0.5622000098228455\n",
      "Epoch 16, CIFAR-10 Batch 4:  Loss: 1.8100343942642212 \t Accuracy: 0.5598000288009644\n",
      "Epoch 16, CIFAR-10 Batch 5:  Loss: 1.820112943649292 \t Accuracy: 0.5712000131607056\n",
      "Epoch 17, CIFAR-10 Batch 1:  Loss: 1.7654731273651123 \t Accuracy: 0.567799985408783\n",
      "Epoch 17, CIFAR-10 Batch 2:  Loss: 1.7207403182983398 \t Accuracy: 0.5550000071525574\n",
      "Epoch 17, CIFAR-10 Batch 3:  Loss: 1.667928695678711 \t Accuracy: 0.5655999779701233\n",
      "Epoch 17, CIFAR-10 Batch 4:  Loss: 1.8025983572006226 \t Accuracy: 0.5676000118255615\n",
      "Epoch 17, CIFAR-10 Batch 5:  Loss: 1.8253660202026367 \t Accuracy: 0.5676000118255615\n",
      "Epoch 18, CIFAR-10 Batch 1:  Loss: 1.7795889377593994 \t Accuracy: 0.5659999847412109\n",
      "Epoch 18, CIFAR-10 Batch 2:  Loss: 1.7392055988311768 \t Accuracy: 0.5648000240325928\n",
      "Epoch 18, CIFAR-10 Batch 3:  Loss: 1.6890709400177002 \t Accuracy: 0.5680000185966492\n",
      "Epoch 18, CIFAR-10 Batch 4:  Loss: 1.7795441150665283 \t Accuracy: 0.576200008392334\n",
      "Epoch 18, CIFAR-10 Batch 5:  Loss: 1.8128788471221924 \t Accuracy: 0.574400007724762\n",
      "Epoch 19, CIFAR-10 Batch 1:  Loss: 1.7703559398651123 \t Accuracy: 0.5687999725341797\n",
      "Epoch 19, CIFAR-10 Batch 2:  Loss: 1.7064965963363647 \t Accuracy: 0.5708000063896179\n",
      "Epoch 19, CIFAR-10 Batch 3:  Loss: 1.652947187423706 \t Accuracy: 0.5681999921798706\n",
      "Epoch 19, CIFAR-10 Batch 4:  Loss: 1.8160823583602905 \t Accuracy: 0.5720000267028809\n",
      "Epoch 19, CIFAR-10 Batch 5:  Loss: 1.7834827899932861 \t Accuracy: 0.5726000070571899\n",
      "Epoch 20, CIFAR-10 Batch 1:  Loss: 1.7826178073883057 \t Accuracy: 0.5712000131607056\n",
      "Epoch 20, CIFAR-10 Batch 2:  Loss: 1.7139742374420166 \t Accuracy: 0.567799985408783\n",
      "Epoch 20, CIFAR-10 Batch 3:  Loss: 1.6524747610092163 \t Accuracy: 0.5763999819755554\n",
      "Epoch 20, CIFAR-10 Batch 4:  Loss: 1.7550166845321655 \t Accuracy: 0.5741999745368958\n",
      "Epoch 20, CIFAR-10 Batch 5:  Loss: 1.7696506977081299 \t Accuracy: 0.579800009727478\n",
      "Epoch 21, CIFAR-10 Batch 1:  Loss: 1.7968116998672485 \t Accuracy: 0.5817999839782715\n",
      "Epoch 21, CIFAR-10 Batch 2:  Loss: 1.7141883373260498 \t Accuracy: 0.5834000110626221\n",
      "Epoch 21, CIFAR-10 Batch 3:  Loss: 1.655923843383789 \t Accuracy: 0.5740000009536743\n",
      "Epoch 21, CIFAR-10 Batch 4:  Loss: 1.7662715911865234 \t Accuracy: 0.5843999981880188\n",
      "Epoch 21, CIFAR-10 Batch 5:  Loss: 1.7706918716430664 \t Accuracy: 0.5878000259399414\n",
      "Epoch 22, CIFAR-10 Batch 1:  Loss: 1.758832573890686 \t Accuracy: 0.5752000212669373\n",
      "Epoch 22, CIFAR-10 Batch 2:  Loss: 1.7448272705078125 \t Accuracy: 0.5734000205993652\n",
      "Epoch 22, CIFAR-10 Batch 3:  Loss: 1.6322746276855469 \t Accuracy: 0.5770000219345093\n",
      "Epoch 22, CIFAR-10 Batch 4:  Loss: 1.7040725946426392 \t Accuracy: 0.5835999846458435\n",
      "Epoch 22, CIFAR-10 Batch 5:  Loss: 1.7342355251312256 \t Accuracy: 0.5839999914169312\n",
      "Epoch 23, CIFAR-10 Batch 1:  Loss: 1.7432676553726196 \t Accuracy: 0.5763999819755554\n",
      "Epoch 23, CIFAR-10 Batch 2:  Loss: 1.7048885822296143 \t Accuracy: 0.5803999900817871\n",
      "Epoch 23, CIFAR-10 Batch 3:  Loss: 1.6599159240722656 \t Accuracy: 0.5658000111579895\n",
      "Epoch 23, CIFAR-10 Batch 4:  Loss: 1.72551691532135 \t Accuracy: 0.5892000198364258\n",
      "Epoch 23, CIFAR-10 Batch 5:  Loss: 1.7432785034179688 \t Accuracy: 0.5861999988555908\n",
      "Epoch 24, CIFAR-10 Batch 1:  Loss: 1.770219087600708 \t Accuracy: 0.5663999915122986\n",
      "Epoch 24, CIFAR-10 Batch 2:  Loss: 1.7116438150405884 \t Accuracy: 0.5784000158309937\n",
      "Epoch 24, CIFAR-10 Batch 3:  Loss: 1.5835850238800049 \t Accuracy: 0.5789999961853027\n",
      "Epoch 24, CIFAR-10 Batch 4:  Loss: 1.7139339447021484 \t Accuracy: 0.5853999853134155\n",
      "Epoch 24, CIFAR-10 Batch 5:  Loss: 1.7199649810791016 \t Accuracy: 0.5935999751091003\n",
      "Epoch 25, CIFAR-10 Batch 1:  Loss: 1.7540241479873657 \t Accuracy: 0.5687999725341797\n",
      "Epoch 25, CIFAR-10 Batch 2:  Loss: 1.698662519454956 \t Accuracy: 0.579200029373169\n",
      "Epoch 25, CIFAR-10 Batch 3:  Loss: 1.5591627359390259 \t Accuracy: 0.5885999798774719\n",
      "Epoch 25, CIFAR-10 Batch 4:  Loss: 1.691544771194458 \t Accuracy: 0.5953999757766724\n",
      "Epoch 25, CIFAR-10 Batch 5:  Loss: 1.6909736394882202 \t Accuracy: 0.5899999737739563\n",
      "Epoch 26, CIFAR-10 Batch 1:  Loss: 1.7488607168197632 \t Accuracy: 0.5896000266075134\n",
      "Epoch 26, CIFAR-10 Batch 2:  Loss: 1.7134631872177124 \t Accuracy: 0.5821999907493591\n",
      "Epoch 26, CIFAR-10 Batch 3:  Loss: 1.555864930152893 \t Accuracy: 0.5875999927520752\n",
      "Epoch 26, CIFAR-10 Batch 4:  Loss: 1.6741182804107666 \t Accuracy: 0.5863999724388123\n",
      "Epoch 26, CIFAR-10 Batch 5:  Loss: 1.6746848821640015 \t Accuracy: 0.5925999879837036\n",
      "Epoch 27, CIFAR-10 Batch 1:  Loss: 1.7462270259857178 \t Accuracy: 0.5843999981880188\n",
      "Epoch 27, CIFAR-10 Batch 2:  Loss: 1.6971896886825562 \t Accuracy: 0.5892000198364258\n",
      "Epoch 27, CIFAR-10 Batch 3:  Loss: 1.570311188697815 \t Accuracy: 0.5892000198364258\n",
      "Epoch 27, CIFAR-10 Batch 4:  Loss: 1.6786432266235352 \t Accuracy: 0.5788000226020813\n",
      "Epoch 27, CIFAR-10 Batch 5:  Loss: 1.6918754577636719 \t Accuracy: 0.5896000266075134\n",
      "Epoch 28, CIFAR-10 Batch 1:  Loss: 1.738224744796753 \t Accuracy: 0.5852000117301941\n",
      "Epoch 28, CIFAR-10 Batch 2:  Loss: 1.6901390552520752 \t Accuracy: 0.5879999995231628\n",
      "Epoch 28, CIFAR-10 Batch 3:  Loss: 1.5586637258529663 \t Accuracy: 0.5932000279426575\n",
      "Epoch 28, CIFAR-10 Batch 4:  Loss: 1.6188523769378662 \t Accuracy: 0.5893999934196472\n",
      "Epoch 28, CIFAR-10 Batch 5:  Loss: 1.6812374591827393 \t Accuracy: 0.6010000109672546\n",
      "Epoch 29, CIFAR-10 Batch 1:  Loss: 1.7599598169326782 \t Accuracy: 0.5920000076293945\n",
      "Epoch 29, CIFAR-10 Batch 2:  Loss: 1.7130825519561768 \t Accuracy: 0.5925999879837036\n",
      "Epoch 29, CIFAR-10 Batch 3:  Loss: 1.5419814586639404 \t Accuracy: 0.5839999914169312\n",
      "Epoch 29, CIFAR-10 Batch 4:  Loss: 1.648707628250122 \t Accuracy: 0.5902000069618225\n",
      "Epoch 29, CIFAR-10 Batch 5:  Loss: 1.7179224491119385 \t Accuracy: 0.5834000110626221\n",
      "Epoch 30, CIFAR-10 Batch 1:  Loss: 1.7503312826156616 \t Accuracy: 0.5953999757766724\n",
      "Epoch 30, CIFAR-10 Batch 2:  Loss: 1.6895231008529663 \t Accuracy: 0.5950000286102295\n",
      "Epoch 30, CIFAR-10 Batch 3:  Loss: 1.5396617650985718 \t Accuracy: 0.5896000266075134\n",
      "Epoch 30, CIFAR-10 Batch 4:  Loss: 1.6295108795166016 \t Accuracy: 0.593999981880188\n",
      "Epoch 30, CIFAR-10 Batch 5:  Loss: 1.6606531143188477 \t Accuracy: 0.5910000205039978\n",
      "Epoch 31, CIFAR-10 Batch 1:  Loss: 1.7450542449951172 \t Accuracy: 0.5849999785423279\n",
      "Epoch 31, CIFAR-10 Batch 2:  Loss: 1.6621490716934204 \t Accuracy: 0.5884000062942505\n",
      "Epoch 31, CIFAR-10 Batch 3:  Loss: 1.5418610572814941 \t Accuracy: 0.5910000205039978\n",
      "Epoch 31, CIFAR-10 Batch 4:  Loss: 1.6296364068984985 \t Accuracy: 0.5974000096321106\n",
      "Epoch 31, CIFAR-10 Batch 5:  Loss: 1.7132031917572021 \t Accuracy: 0.5812000036239624\n",
      "Epoch 32, CIFAR-10 Batch 1:  Loss: 1.7251123189926147 \t Accuracy: 0.5974000096321106\n",
      "Epoch 32, CIFAR-10 Batch 2:  Loss: 1.6492335796356201 \t Accuracy: 0.6025999784469604\n",
      "Epoch 32, CIFAR-10 Batch 3:  Loss: 1.5773341655731201 \t Accuracy: 0.5899999737739563\n",
      "Epoch 32, CIFAR-10 Batch 4:  Loss: 1.6270771026611328 \t Accuracy: 0.5920000076293945\n",
      "Epoch 32, CIFAR-10 Batch 5:  Loss: 1.6945877075195312 \t Accuracy: 0.5964000225067139\n",
      "Epoch 33, CIFAR-10 Batch 1:  Loss: 1.7362486124038696 \t Accuracy: 0.597599983215332\n",
      "Epoch 33, CIFAR-10 Batch 2:  Loss: 1.6981430053710938 \t Accuracy: 0.5870000123977661\n",
      "Epoch 33, CIFAR-10 Batch 3:  Loss: 1.5448503494262695 \t Accuracy: 0.5902000069618225\n",
      "Epoch 33, CIFAR-10 Batch 4:  Loss: 1.6149333715438843 \t Accuracy: 0.5971999764442444\n",
      "Epoch 33, CIFAR-10 Batch 5:  Loss: 1.7105891704559326 \t Accuracy: 0.5943999886512756\n",
      "Epoch 34, CIFAR-10 Batch 1:  Loss: 1.7087562084197998 \t Accuracy: 0.5809999704360962\n",
      "Epoch 34, CIFAR-10 Batch 2:  Loss: 1.6229944229125977 \t Accuracy: 0.5974000096321106\n",
      "Epoch 34, CIFAR-10 Batch 3:  Loss: 1.604017972946167 \t Accuracy: 0.5889999866485596\n",
      "Epoch 34, CIFAR-10 Batch 4:  Loss: 1.6216175556182861 \t Accuracy: 0.6014000177383423\n",
      "Epoch 34, CIFAR-10 Batch 5:  Loss: 1.6991885900497437 \t Accuracy: 0.5960000157356262\n",
      "Epoch 35, CIFAR-10 Batch 1:  Loss: 1.741783857345581 \t Accuracy: 0.5979999899864197\n",
      "Epoch 35, CIFAR-10 Batch 2:  Loss: 1.6331501007080078 \t Accuracy: 0.5947999954223633\n",
      "Epoch 35, CIFAR-10 Batch 3:  Loss: 1.5533959865570068 \t Accuracy: 0.6043999791145325\n",
      "Epoch 35, CIFAR-10 Batch 4:  Loss: 1.595629096031189 \t Accuracy: 0.6037999987602234\n",
      "Epoch 35, CIFAR-10 Batch 5:  Loss: 1.6759268045425415 \t Accuracy: 0.5953999757766724\n"
     ]
    }
   ],
   "source": [
    "\"\"\"\n",
    "DON'T MODIFY ANYTHING IN THIS CELL\n",
    "\"\"\"\n",
    "save_model_path = './image_classification'\n",
    "\n",
    "print('Training...')\n",
    "with tf.Session() as sess:\n",
    "    # Initializing the variables\n",
    "    sess.run(tf.global_variables_initializer())\n",
    "    \n",
    "    # Training cycle\n",
    "    for epoch in range(epochs):\n",
    "        # Loop over all batches\n",
    "        n_batches = 5\n",
    "        for batch_i in range(1, n_batches + 1):\n",
    "            for batch_features, batch_labels in helper.load_preprocess_training_batch(batch_i, batch_size):\n",
    "                train_neural_network(sess, optimizer, keep_probability, batch_features, batch_labels)\n",
    "            print('Epoch {:>2}, CIFAR-10 Batch {}:  '.format(epoch + 1, batch_i), end='')\n",
    "            print_stats(sess, batch_features, batch_labels, cost, accuracy)\n",
    "            \n",
    "    # Save Model\n",
    "    saver = tf.train.Saver()\n",
    "    save_path = saver.save(sess, save_model_path)"
   ]
  },
  {
   "cell_type": "markdown",
   "metadata": {
    "deletable": true,
    "editable": true
   },
   "source": [
    "# Checkpoint\n",
    "The model has been saved to disk.\n",
    "## Test Model\n",
    "Test your model against the test dataset.  This will be your final accuracy. You should have an accuracy greater than 50%. If you don't, keep tweaking the model architecture and parameters."
   ]
  },
  {
   "cell_type": "code",
   "execution_count": 22,
   "metadata": {
    "collapsed": false,
    "deletable": true,
    "editable": true
   },
   "outputs": [
    {
     "name": "stdout",
     "output_type": "stream",
     "text": [
      "Testing Accuracy: 0.5987935126582279\n",
      "\n"
     ]
    },
    {
     "data": {
      "image/png": "[encoded data removed]",
      "text/plain": [
       "<matplotlib.figure.Figure at 0x107e5a7b8>"
      ]
     },
     "metadata": {
      "image/png": {
       "height": 319,
       "width": 355
      }
     },
     "output_type": "display_data"
    }
   ],
   "source": [
    "\"\"\"\n",
    "DON'T MODIFY ANYTHING IN THIS CELL\n",
    "\"\"\"\n",
    "%matplotlib inline\n",
    "%config InlineBackend.figure_format = 'retina'\n",
    "\n",
    "import tensorflow as tf\n",
    "import pickle\n",
    "import helper\n",
    "import random\n",
    "\n",
    "# Set batch size if not already set\n",
    "try:\n",
    "    if batch_size:\n",
    "        pass\n",
    "except NameError:\n",
    "    batch_size = 64\n",
    "\n",
    "save_model_path = './image_classification'\n",
    "n_samples = 4\n",
    "top_n_predictions = 3\n",
    "\n",
    "def test_model():\n",
    "    \"\"\"\n",
    "    Test the saved model against the test dataset\n",
    "    \"\"\"\n",
    "\n",
    "    test_features, test_labels = pickle.load(open('preprocess_training.p', mode='rb'))\n",
    "    loaded_graph = tf.Graph()\n",
    "\n",
    "    with tf.Session(graph=loaded_graph) as sess:\n",
    "        # Load model\n",
    "        loader = tf.train.import_meta_graph(save_model_path + '.meta')\n",
    "        loader.restore(sess, save_model_path)\n",
    "\n",
    "        # Get Tensors from loaded model\n",
    "        loaded_x = loaded_graph.get_tensor_by_name('x:0')\n",
    "        loaded_y = loaded_graph.get_tensor_by_name('y:0')\n",
    "        loaded_keep_prob = loaded_graph.get_tensor_by_name('keep_prob:0')\n",
    "        loaded_logits = loaded_graph.get_tensor_by_name('logits:0')\n",
    "        loaded_acc = loaded_graph.get_tensor_by_name('accuracy:0')\n",
    "        \n",
    "        # Get accuracy in batches for memory limitations\n",
    "        test_batch_acc_total = 0\n",
    "        test_batch_count = 0\n",
    "        \n",
    "        for train_feature_batch, train_label_batch in helper.batch_features_labels(test_features, test_labels, batch_size):\n",
    "            test_batch_acc_total += sess.run(\n",
    "                loaded_acc,\n",
    "                feed_dict={loaded_x: train_feature_batch, loaded_y: train_label_batch, loaded_keep_prob: 1.0})\n",
    "            test_batch_count += 1\n",
    "\n",
    "        print('Testing Accuracy: {}\\n'.format(test_batch_acc_total/test_batch_count))\n",
    "\n",
    "        # Print Random Samples\n",
    "        random_test_features, random_test_labels = tuple(zip(*random.sample(list(zip(test_features, test_labels)), n_samples)))\n",
    "        random_test_predictions = sess.run(\n",
    "            tf.nn.top_k(tf.nn.softmax(loaded_logits), top_n_predictions),\n",
    "            feed_dict={loaded_x: random_test_features, loaded_y: random_test_labels, loaded_keep_prob: 1.0})\n",
    "        helper.display_image_predictions(random_test_features, random_test_labels, random_test_predictions)\n",
    "\n",
    "\n",
    "test_model()"
   ]
  },
  {
   "cell_type": "markdown",
   "metadata": {
    "deletable": true,
    "editable": true
   },
   "source": [
    "## Why 50-80% Accuracy?\n",
    "You might be wondering why you can't get an accuracy any higher. First things first, 50% isn't bad for a simple CNN.  Pure guessing would get you 10% accuracy. However, you might notice people are getting scores [well above 80%](http://rodrigob.github.io/are_we_there_yet/build/classification_datasets_results.html#43494641522d3130).  That's because we haven't taught you all there is to know about neural networks. We still need to cover a few more techniques.\n",
    "## Submitting This Project\n",
    "When submitting this project, make sure to run all the cells before saving the notebook.  Save the notebook file as \"dlnd_image_classification.ipynb\" and save it as a HTML file under \"File\" -> \"Download as\".  Include the \"helper.py\" and \"problem_unittests.py\" files in your submission."
   ]
  }
 ],
 "metadata": {
  "kernelspec": {
   "display_name": "Python 3",
   "language": "python",
   "name": "python3"
  },
  "language_info": {
   "codemirror_mode": {
    "name": "ipython",
    "version": 3
   },
   "file_extension": ".py",
   "mimetype": "text/x-python",
   "name": "python",
   "nbconvert_exporter": "python",
   "pygments_lexer": "ipython3",
   "version": "3.5.3"
  }
 },
 "nbformat": 4,
 "nbformat_minor": 0
}
