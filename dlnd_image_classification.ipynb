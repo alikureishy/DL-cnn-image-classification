{
 "cells": [
  {
   "cell_type": "markdown",
   "metadata": {
    "collapsed": true,
    "deletable": true,
    "editable": true
   },
   "source": [
    "# Image Classification\n",
    "In this project, you'll classify images from the [CIFAR-10 dataset](https://www.cs.toronto.edu/~kriz/cifar.html).  The dataset consists of airplanes, dogs, cats, and other objects. You'll preprocess the images, then train a convolutional neural network on all the samples. The images need to be normalized and the labels need to be one-hot encoded.  You'll get to apply what you learned and build a convolutional, max pooling, dropout, and fully connected layers.  At the end, you'll get to see your neural network's predictions on the sample images.\n",
    "## Get the Data\n",
    "Run the following cell to download the [CIFAR-10 dataset for python](https://www.cs.toronto.edu/~kriz/cifar-10-python.tar.gz)."
   ]
  },
  {
   "cell_type": "code",
   "execution_count": 1,
   "metadata": {
    "collapsed": false,
    "deletable": true,
    "editable": true
   },
   "outputs": [
    {
     "name": "stdout",
     "output_type": "stream",
     "text": [
      "All files found!\n"
     ]
    }
   ],
   "source": [
    "\"\"\"\n",
    "DON'T MODIFY ANYTHING IN THIS CELL THAT IS BELOW THIS LINE\n",
    "\"\"\"\n",
    "from urllib.request import urlretrieve\n",
    "from os.path import isfile, isdir\n",
    "from tqdm import tqdm\n",
    "import problem_unittests as tests\n",
    "import tarfile\n",
    "\n",
    "cifar10_dataset_folder_path = 'cifar-10-batches-py'\n",
    "\n",
    "class DLProgress(tqdm):\n",
    "    last_block = 0\n",
    "\n",
    "    def hook(self, block_num=1, block_size=1, total_size=None):\n",
    "        self.total = total_size\n",
    "        self.update((block_num - self.last_block) * block_size)\n",
    "        self.last_block = block_num\n",
    "\n",
    "if not isfile('cifar-10-python.tar.gz'):\n",
    "    with DLProgress(unit='B', unit_scale=True, miniters=1, desc='CIFAR-10 Dataset') as pbar:\n",
    "        urlretrieve(\n",
    "            'https://www.cs.toronto.edu/~kriz/cifar-10-python.tar.gz',\n",
    "            'cifar-10-python.tar.gz',\n",
    "            pbar.hook)\n",
    "\n",
    "if not isdir(cifar10_dataset_folder_path):\n",
    "    with tarfile.open('cifar-10-python.tar.gz') as tar:\n",
    "        tar.extractall()\n",
    "        tar.close()\n",
    "\n",
    "\n",
    "tests.test_folder_path(cifar10_dataset_folder_path)"
   ]
  },
  {
   "cell_type": "markdown",
   "metadata": {
    "deletable": true,
    "editable": true
   },
   "source": [
    "## Explore the Data\n",
    "The dataset is broken into batches to prevent your machine from running out of memory.  The CIFAR-10 dataset consists of 5 batches, named `data_batch_1`, `data_batch_2`, etc.. Each batch contains the labels and images that are one of the following:\n",
    "* airplane\n",
    "* automobile\n",
    "* bird\n",
    "* cat\n",
    "* deer\n",
    "* dog\n",
    "* frog\n",
    "* horse\n",
    "* ship\n",
    "* truck\n",
    "\n",
    "Understanding a dataset is part of making predictions on the data.  Play around with the code cell below by changing the `batch_id` and `sample_id`. The `batch_id` is the id for a batch (1-5). The `sample_id` is the id for a image and label pair in the batch.\n",
    "\n",
    "Ask yourself \"What are all possible labels?\", \"What is the range of values for the image data?\", \"Are the labels in order or random?\".  Answers to questions like these will help you preprocess the data and end up with better predictions."
   ]
  },
  {
   "cell_type": "code",
   "execution_count": 2,
   "metadata": {
    "collapsed": false,
    "deletable": true,
    "editable": true
   },
   "outputs": [
    {
     "name": "stdout",
     "output_type": "stream",
     "text": [
      "\n",
      "Stats of batch 3:\n",
      "Samples: 10000\n",
      "Label Counts: {0: 994, 1: 1042, 2: 965, 3: 997, 4: 990, 5: 1029, 6: 978, 7: 1015, 8: 961, 9: 1029}\n",
      "First 20 Labels: [8, 5, 0, 6, 9, 2, 8, 3, 6, 2, 7, 4, 6, 9, 0, 0, 7, 3, 7, 2]\n",
      "\n",
      "Example of Image 1:\n",
      "Image - Min Value: 15 Max Value: 249\n",
      "Image - Shape: (32, 32, 3)\n",
      "Label - Label Id: 5 Name: dog\n"
     ]
    },
    {
     "data": {
      "image/png": "[encoded data removed]",
      "text/plain": [
       "<matplotlib.figure.Figure at 0x11cb69400>"
      ]
     },
     "metadata": {
      "image/png": {
       "height": 250,
       "width": 253
      }
     },
     "output_type": "display_data"
    }
   ],
   "source": [
    "%matplotlib inline\n",
    "%config InlineBackend.figure_format = 'retina'\n",
    "\n",
    "import helper\n",
    "import numpy as np\n",
    "\n",
    "# Explore the dataset\n",
    "batch_id = 3\n",
    "sample_id = 1\n",
    "helper.display_stats(cifar10_dataset_folder_path, batch_id, sample_id)"
   ]
  },
  {
   "cell_type": "markdown",
   "metadata": {
    "deletable": true,
    "editable": true
   },
   "source": [
    "## Implement Preprocess Functions\n",
    "### Normalize\n",
    "In the cell below, implement the `normalize` function to take in image data, `x`, and return it as a normalized Numpy array. The values should be in the range of 0 to 1, inclusive.  The return object should be the same shape as `x`."
   ]
  },
  {
   "cell_type": "code",
   "execution_count": 3,
   "metadata": {
    "collapsed": false,
    "deletable": true,
    "editable": true
   },
   "outputs": [
    {
     "name": "stdout",
     "output_type": "stream",
     "text": [
      "Tests Passed\n"
     ]
    }
   ],
   "source": [
    "import cv2\n",
    "\n",
    "def normalize(x):\n",
    "    \"\"\"\n",
    "    Normalize a list of sample image data in the range of 0 to 1\n",
    "    : x: List of image data.  The image shape is (32, 32, 3)\n",
    "    : return: Numpy array of normalize data\n",
    "    \"\"\"\n",
    "    x_min = x.min(axis=(0, 1), keepdims=True)\n",
    "    x_max = x.max(axis=(0, 1), keepdims=True)\n",
    "    nx = (x - x_min)/(x_max - x_min)\n",
    "\n",
    "#     print (np.mean(x), np.std(x), np.min(x), np.max(x))\n",
    "#     print (np.mean(nx), np.std(nx), np.min(nx), np.max(nx))\n",
    "\n",
    "    return nx\n",
    "\n",
    "\n",
    "\"\"\"\n",
    "DON'T MODIFY ANYTHING IN THIS CELL THAT IS BELOW THIS LINE\n",
    "\"\"\"\n",
    "tests.test_normalize(normalize)"
   ]
  },
  {
   "cell_type": "markdown",
   "metadata": {
    "deletable": true,
    "editable": true
   },
   "source": [
    "### One-hot encode\n",
    "Just like the previous code cell, you'll be implementing a function for preprocessing.  This time, you'll implement the `one_hot_encode` function. The input, `x`, are a list of labels.  Implement the function to return the list of labels as One-Hot encoded Numpy array.  The possible values for labels are 0 to 9. The one-hot encoding function should return the same encoding for each value between each call to `one_hot_encode`.  Make sure to save the map of encodings outside the function.\n",
    "\n",
    "Hint: Don't reinvent the wheel."
   ]
  },
  {
   "cell_type": "code",
   "execution_count": 4,
   "metadata": {
    "collapsed": false,
    "deletable": true,
    "editable": true
   },
   "outputs": [
    {
     "name": "stdout",
     "output_type": "stream",
     "text": [
      "Tests Passed\n"
     ]
    }
   ],
   "source": [
    "from sklearn.preprocessing import LabelBinarizer\n",
    "\n",
    "def one_hot_encode(x):\n",
    "    \"\"\"\n",
    "    One hot encode a list of sample labels. Return a one-hot encoded vector for each label.\n",
    "    : x: List of sample Labels\n",
    "    : return: Numpy array of one-hot encoded labels\n",
    "    \"\"\"\n",
    "    # TODO: Implement Function\n",
    "    categories = list(range(10))\n",
    "    binarizer = LabelBinarizer()\n",
    "    binarizer.fit(categories)\n",
    "    encoded = binarizer.transform(x)\n",
    "    \n",
    "#     print (np.mean(encoded), np.std(encoded), np.min(encoded), np.max(encoded))\n",
    "    return encoded\n",
    "\n",
    "\"\"\"\n",
    "DON'T MODIFY ANYTHING IN THIS CELL THAT IS BELOW THIS LINE\n",
    "\"\"\"\n",
    "tests.test_one_hot_encode(one_hot_encode)"
   ]
  },
  {
   "cell_type": "markdown",
   "metadata": {
    "deletable": true,
    "editable": true
   },
   "source": [
    "### Randomize Data\n",
    "As you saw from exploring the data above, the order of the samples are randomized.  It doesn't hurt to randomize it again, but you don't need to for this dataset."
   ]
  },
  {
   "cell_type": "markdown",
   "metadata": {
    "deletable": true,
    "editable": true
   },
   "source": [
    "## Preprocess all the data and save it\n",
    "Running the code cell below will preprocess all the CIFAR-10 data and save it to file. The code below also uses 10% of the training data for validation."
   ]
  },
  {
   "cell_type": "code",
   "execution_count": 5,
   "metadata": {
    "collapsed": false,
    "deletable": true,
    "editable": true
   },
   "outputs": [
    {
     "name": "stdout",
     "output_type": "stream",
     "text": [
      "Done\n"
     ]
    }
   ],
   "source": [
    "\"\"\"\n",
    "DON'T MODIFY ANYTHING IN THIS CELL\n",
    "\"\"\"\n",
    "# Preprocess Training, Validation, and Testing Data\n",
    "helper.preprocess_and_save_data(cifar10_dataset_folder_path, normalize, one_hot_encode)\n",
    "\n",
    "print (\"Done\")"
   ]
  },
  {
   "cell_type": "markdown",
   "metadata": {
    "deletable": true,
    "editable": true
   },
   "source": [
    "# Check Point\n",
    "This is your first checkpoint.  If you ever decide to come back to this notebook or have to restart the notebook, you can start from here.  The preprocessed data has been saved to disk."
   ]
  },
  {
   "cell_type": "code",
   "execution_count": 6,
   "metadata": {
    "collapsed": false,
    "deletable": true,
    "editable": true
   },
   "outputs": [],
   "source": [
    "\"\"\"\n",
    "DON'T MODIFY ANYTHING IN THIS CELL\n",
    "\"\"\"\n",
    "import pickle\n",
    "import problem_unittests as tests\n",
    "import helper\n",
    "\n",
    "# Load the Preprocessed Validation data\n",
    "valid_features, valid_labels = pickle.load(open('preprocess_validation.p', mode='rb'))\n",
    "\n",
    "\n",
    "# print (np.mean(valid_features), np.std(valid_features))\n",
    "# print (np.min(valid_labels), np.max(valid_labels))"
   ]
  },
  {
   "cell_type": "markdown",
   "metadata": {
    "deletable": true,
    "editable": true
   },
   "source": [
    "## Build the network\n",
    "For the neural network, you'll build each layer into a function.  Most of the code you've seen has been outside of functions. To test your code more thoroughly, we require that you put each layer in a function.  This allows us to give you better feedback and test for simple mistakes using our unittests before you submit your project.\n",
    "\n",
    ">**Note:** If you're finding it hard to dedicate enough time for this course each week, we've provided a small shortcut to this part of the project. In the next couple of problems, you'll have the option to use classes from the [TensorFlow Layers](https://www.tensorflow.org/api_docs/python/tf/layers) or [TensorFlow Layers (contrib)](https://www.tensorflow.org/api_guides/python/contrib.layers) packages to build each layer, except the layers you build in the \"Convolutional and Max Pooling Layer\" section.  TF Layers is similar to Keras's and TFLearn's abstraction to layers, so it's easy to pickup.\n",
    "\n",
    ">However, if you would like to get the most out of this course, try to solve all the problems _without_ using anything from the TF Layers packages. You **can** still use classes from other packages that happen to have the same name as ones you find in TF Layers! For example, instead of using the TF Layers version of the `conv2d` class, [tf.layers.conv2d](https://www.tensorflow.org/api_docs/python/tf/layers/conv2d), you would want to use the TF Neural Network version of `conv2d`, [tf.nn.conv2d](https://www.tensorflow.org/api_docs/python/tf/nn/conv2d). \n",
    "\n",
    "Let's begin!\n",
    "\n",
    "### Input\n",
    "The neural network needs to read the image data, one-hot encoded labels, and dropout keep probability. Implement the following functions\n",
    "* Implement `neural_net_image_input`\n",
    " * Return a [TF Placeholder](https://www.tensorflow.org/api_docs/python/tf/placeholder)\n",
    " * Set the shape using `image_shape` with batch size set to `None`.\n",
    " * Name the TensorFlow placeholder \"x\" using the TensorFlow `name` parameter in the [TF Placeholder](https://www.tensorflow.org/api_docs/python/tf/placeholder).\n",
    "* Implement `neural_net_label_input`\n",
    " * Return a [TF Placeholder](https://www.tensorflow.org/api_docs/python/tf/placeholder)\n",
    " * Set the shape using `n_classes` with batch size set to `None`.\n",
    " * Name the TensorFlow placeholder \"y\" using the TensorFlow `name` parameter in the [TF Placeholder](https://www.tensorflow.org/api_docs/python/tf/placeholder).\n",
    "* Implement `neural_net_keep_prob_input`\n",
    " * Return a [TF Placeholder](https://www.tensorflow.org/api_docs/python/tf/placeholder) for dropout keep probability.\n",
    " * Name the TensorFlow placeholder \"keep_prob\" using the TensorFlow `name` parameter in the [TF Placeholder](https://www.tensorflow.org/api_docs/python/tf/placeholder).\n",
    "\n",
    "These names will be used at the end of the project to load your saved model.\n",
    "\n",
    "Note: `None` for shapes in TensorFlow allow for a dynamic size."
   ]
  },
  {
   "cell_type": "code",
   "execution_count": 7,
   "metadata": {
    "collapsed": false,
    "deletable": true,
    "editable": true
   },
   "outputs": [
    {
     "name": "stdout",
     "output_type": "stream",
     "text": [
      "Image Input Tests Passed.\n",
      "Label Input Tests Passed.\n",
      "Keep Prob Tests Passed.\n"
     ]
    }
   ],
   "source": [
    "import tensorflow as tf\n",
    "\n",
    "def neural_net_image_input(image_shape):\n",
    "    \"\"\"\n",
    "    Return a Tensor for a batch of image input\n",
    "    : image_shape: Shape of the images\n",
    "    : return: Tensor for image input.\n",
    "    \"\"\"\n",
    "    return tf.placeholder(tf.float32, [None, *image_shape], name=\"x\")\n",
    "\n",
    "def neural_net_label_input(n_classes):\n",
    "    \"\"\"\n",
    "    Return a Tensor for a batch of label input\n",
    "    : n_classes: Number of classes\n",
    "    : return: Tensor for label input.\n",
    "    \"\"\"\n",
    "    return tf.placeholder(tf.float32, [None, n_classes], name=\"y\")\n",
    "\n",
    "def neural_net_keep_prob_input():\n",
    "    \"\"\"\n",
    "    Return a Tensor for keep probability\n",
    "    : return: Tensor for keep probability.\n",
    "    \"\"\"\n",
    "    return tf.placeholder(tf.float32, name=\"keep_prob\")\n",
    "\n",
    "\"\"\"\n",
    "DON'T MODIFY ANYTHING IN THIS CELL THAT IS BELOW THIS LINE\n",
    "\"\"\"\n",
    "tf.reset_default_graph()\n",
    "tests.test_nn_image_inputs(neural_net_image_input)\n",
    "tests.test_nn_label_inputs(neural_net_label_input)\n",
    "tests.test_nn_keep_prob_inputs(neural_net_keep_prob_input)"
   ]
  },
  {
   "cell_type": "markdown",
   "metadata": {
    "deletable": true,
    "editable": true
   },
   "source": [
    "### Convolution and Max Pooling Layer\n",
    "Convolution layers have a lot of success with images. For this code cell, you should implement the function `conv2d_maxpool` to apply convolution then max pooling:\n",
    "* Create the weight and bias using `conv_ksize`, `conv_num_outputs` and the shape of `x_tensor`.\n",
    "* Apply a convolution to `x_tensor` using weight and `conv_strides`.\n",
    " * We recommend you use same padding, but you're welcome to use any padding.\n",
    "* Add bias\n",
    "* Add a nonlinear activation to the convolution.\n",
    "* Apply Max Pooling using `pool_ksize` and `pool_strides`.\n",
    " * We recommend you use same padding, but you're welcome to use any padding.\n",
    "\n",
    "**Note:** You **can't** use [TensorFlow Layers](https://www.tensorflow.org/api_docs/python/tf/layers) or [TensorFlow Layers (contrib)](https://www.tensorflow.org/api_guides/python/contrib.layers) for **this** layer, but you can still use TensorFlow's [Neural Network](https://www.tensorflow.org/api_docs/python/tf/nn) package. You may still use the shortcut option for all the **other** layers."
   ]
  },
  {
   "cell_type": "code",
   "execution_count": 8,
   "metadata": {
    "collapsed": false,
    "deletable": true,
    "editable": true
   },
   "outputs": [
    {
     "name": "stdout",
     "output_type": "stream",
     "text": [
      "Tests Passed\n"
     ]
    }
   ],
   "source": [
    "from math import ceil\n",
    "\n",
    "def conv2d_maxpool(x_tensor, conv_num_outputs, conv_ksize, conv_strides, pool_ksize, pool_strides):\n",
    "    \"\"\"\n",
    "    Apply convolution then max pooling to x_tensor\n",
    "    :param x_tensor: TensorFlow Tensor\n",
    "    :param conv_num_outputs: Number of outputs for the convolutional layer\n",
    "    :param conv_ksize: kernal size 2-D Tuple for the convolutional layer\n",
    "    :param conv_strides: Stride 2-D Tuple for convolution\n",
    "    :param pool_ksize: kernal size 2-D Tuple for pool\n",
    "    :param pool_strides: Stride 2-D Tuple for pool\n",
    "    : return: A tensor that represents convolution and max pooling of x_tensor\n",
    "    \"\"\"\n",
    "#     print (x_tensor.shape, conv_num_outputs, conv_ksize, conv_strides, pool_ksize, pool_strides)\n",
    "    filter_size = conv_ksize\n",
    "    num_input_filters = x_tensor.get_shape().as_list()[3]\n",
    "    num_output_filters = conv_num_outputs\n",
    "    shape = [*filter_size, num_input_filters, num_output_filters]\n",
    "\n",
    "    weights = tf.Variable(tf.truncated_normal(shape, mean=0.0, stddev=0.05, dtype=tf.float32))\n",
    "    biases = tf.Variable(tf.zeros(shape=[num_output_filters], dtype=tf.float32))\n",
    "\n",
    "    layer = tf.nn.conv2d(input=x_tensor, filter=weights, strides=[1, *conv_strides, 1], padding='SAME')\n",
    "    layer = tf.nn.bias_add(layer, biases)\n",
    "    layer = tf.nn.relu(layer)\n",
    "    layer = tf.nn.max_pool(value=layer, ksize=[1, *pool_ksize, 1], strides=[1, *pool_strides, 1], padding='SAME')\n",
    "    return layer\n",
    "\n",
    "\n",
    "\"\"\"\n",
    "DON'T MODIFY ANYTHING IN THIS CELL THAT IS BELOW THIS LINE\n",
    "\"\"\"\n",
    "tests.test_con_pool(conv2d_maxpool)"
   ]
  },
  {
   "cell_type": "markdown",
   "metadata": {
    "deletable": true,
    "editable": true
   },
   "source": [
    "### Flatten Layer\n",
    "Implement the `flatten` function to change the dimension of `x_tensor` from a 4-D tensor to a 2-D tensor.  The output should be the shape (*Batch Size*, *Flattened Image Size*). Shortcut option: you can use classes from the [TensorFlow Layers](https://www.tensorflow.org/api_docs/python/tf/layers) or [TensorFlow Layers (contrib)](https://www.tensorflow.org/api_guides/python/contrib.layers) packages for this layer. For more of a challenge, only use other TensorFlow packages."
   ]
  },
  {
   "cell_type": "code",
   "execution_count": 9,
   "metadata": {
    "collapsed": false,
    "deletable": true,
    "editable": true
   },
   "outputs": [
    {
     "name": "stdout",
     "output_type": "stream",
     "text": [
      "Tests Passed\n"
     ]
    }
   ],
   "source": [
    "def flatten(x_tensor):\n",
    "    \"\"\"\n",
    "    Flatten x_tensor to (Batch Size, Flattened Image Size)\n",
    "    : x_tensor: A tensor of size (Batch Size, ...), where ... are the image dimensions.\n",
    "    : return: A tensor of size (Batch Size, Flattened Image Size).\n",
    "    \"\"\"\n",
    "    layer_shape = x_tensor.get_shape()\n",
    "    num_features = layer_shape[1:4].num_elements()\n",
    "    layer_flat1 = tf.reshape(x_tensor, [-1, num_features])\n",
    "    return layer_flat1\n",
    "\n",
    "\n",
    "\"\"\"\n",
    "DON'T MODIFY ANYTHING IN THIS CELL THAT IS BELOW THIS LINE\n",
    "\"\"\"\n",
    "tests.test_flatten(flatten)"
   ]
  },
  {
   "cell_type": "markdown",
   "metadata": {
    "deletable": true,
    "editable": true
   },
   "source": [
    "### Fully-Connected Layer\n",
    "Implement the `fully_conn` function to apply a fully connected layer to `x_tensor` with the shape (*Batch Size*, *num_outputs*). Shortcut option: you can use classes from the [TensorFlow Layers](https://www.tensorflow.org/api_docs/python/tf/layers) or [TensorFlow Layers (contrib)](https://www.tensorflow.org/api_guides/python/contrib.layers) packages for this layer. For more of a challenge, only use other TensorFlow packages."
   ]
  },
  {
   "cell_type": "code",
   "execution_count": 10,
   "metadata": {
    "collapsed": false,
    "deletable": true,
    "editable": true
   },
   "outputs": [
    {
     "name": "stdout",
     "output_type": "stream",
     "text": [
      "Tests Passed\n"
     ]
    }
   ],
   "source": [
    "def fully_conn(x_tensor, num_outputs):\n",
    "    \"\"\"\n",
    "    Apply a fully connected layer to x_tensor using weight and bias\n",
    "    : x_tensor: A 2-D tensor where the first dimension is batch size.\n",
    "    : num_outputs: The number of output that the new tensor should be.\n",
    "    : return: A 2-D tensor where the second dimension is num_outputs.\n",
    "    \"\"\"\n",
    "    num_inputs = x_tensor.get_shape().as_list()[1]\n",
    "    shape = [num_inputs, num_outputs]\n",
    "    weights = tf.Variable(tf.truncated_normal(shape, mean=0.0, stddev=0.05, dtype=tf.float32))\n",
    "    biases = tf.Variable(tf.zeros(shape=[num_outputs], dtype=tf.float32))\n",
    "    layer = tf.matmul(x_tensor, weights) + biases\n",
    "    layer = tf.nn.relu(layer)\n",
    "    return layer\n",
    "\n",
    "\n",
    "\"\"\"\n",
    "DON'T MODIFY ANYTHING IN THIS CELL THAT IS BELOW THIS LINE\n",
    "\"\"\"\n",
    "tests.test_fully_conn(fully_conn)"
   ]
  },
  {
   "cell_type": "markdown",
   "metadata": {
    "deletable": true,
    "editable": true
   },
   "source": [
    "### Output Layer\n",
    "Implement the `output` function to apply a fully connected layer to `x_tensor` with the shape (*Batch Size*, *num_outputs*). Shortcut option: you can use classes from the [TensorFlow Layers](https://www.tensorflow.org/api_docs/python/tf/layers) or [TensorFlow Layers (contrib)](https://www.tensorflow.org/api_guides/python/contrib.layers) packages for this layer. For more of a challenge, only use other TensorFlow packages.\n",
    "\n",
    "**Note:** Activation, softmax, or cross entropy should **not** be applied to this."
   ]
  },
  {
   "cell_type": "code",
   "execution_count": 11,
   "metadata": {
    "collapsed": false,
    "deletable": true,
    "editable": true
   },
   "outputs": [
    {
     "name": "stdout",
     "output_type": "stream",
     "text": [
      "Tests Passed\n"
     ]
    }
   ],
   "source": [
    "def output(x_tensor, num_outputs):\n",
    "    \"\"\"\n",
    "    Apply a output layer to x_tensor using weight and bias\n",
    "    : x_tensor: A 2-D tensor where the first dimension is batch size.\n",
    "    : num_outputs: The number of output that the new tensor should be.\n",
    "    : return: A 2-D tensor where the second dimension is num_outputs.\n",
    "    \"\"\"\n",
    "    num_inputs = x_tensor.get_shape().as_list()[1]\n",
    "    shape = [num_inputs, num_outputs]\n",
    "    weights = tf.Variable(tf.truncated_normal(shape, mean=0.0, stddev=0.05, dtype=tf.float32))\n",
    "    biases = tf.Variable(tf.zeros(shape=[num_outputs], dtype=tf.float32))\n",
    "    layer = tf.matmul(x_tensor, weights) + biases\n",
    "#     layer = tf.nn.softmax(layer)\n",
    "    return layer\n",
    "\n",
    "\n",
    "\"\"\"\n",
    "DON'T MODIFY ANYTHING IN THIS CELL THAT IS BELOW THIS LINE\n",
    "\"\"\"\n",
    "tests.test_output(output)"
   ]
  },
  {
   "cell_type": "markdown",
   "metadata": {
    "deletable": true,
    "editable": true
   },
   "source": [
    "### Create Convolutional Model\n",
    "Implement the function `conv_net` to create a convolutional neural network model. The function takes in a batch of images, `x`, and outputs logits.  Use the layers you created above to create this model:\n",
    "\n",
    "* Apply 1, 2, or 3 Convolution and Max Pool layers\n",
    "* Apply a Flatten Layer\n",
    "* Apply 1, 2, or 3 Fully Connected Layers\n",
    "* Apply an Output Layer\n",
    "* Return the output\n",
    "* Apply [TensorFlow's Dropout](https://www.tensorflow.org/api_docs/python/tf/nn/dropout) to one or more layers in the model using `keep_prob`. "
   ]
  },
  {
   "cell_type": "code",
   "execution_count": 12,
   "metadata": {
    "collapsed": false,
    "deletable": true,
    "editable": true
   },
   "outputs": [
    {
     "name": "stdout",
     "output_type": "stream",
     "text": [
      "Neural Network Built!\n"
     ]
    }
   ],
   "source": [
    "def conv_net(x, keep_prob):\n",
    "    \"\"\"\n",
    "    Create a convolutional neural network model\n",
    "    : x: Placeholder tensor that holds image data.\n",
    "    : keep_prob: Placeholder tensor that hold dropout keep probability.\n",
    "    : return: Tensor that represents logits\n",
    "    \"\"\"\n",
    "    # TODO: Apply 1, 2, or 3 Convolution and Max Pool layers\n",
    "    #    Play around with different number of outputs, kernel size and stride\n",
    "    # Function Definition from Above:\n",
    "    #    conv2d_maxpool(x_tensor, conv_num_outputs, conv_ksize, conv_strides, pool_ksize, pool_strides)\n",
    "#     layer = conv2d_maxpool(x, 8, [3,3], [1,1], [2,2], [2,2])\n",
    "#     layer = conv2d_maxpool(x, 16, [3,3], [1,1], [2,2], [2,2])\n",
    "#     layer = conv2d_maxpool(x, 32, [3,3], [1,1], [2,2], [2,2]) \n",
    "\n",
    "    layer = conv2d_maxpool(x, 8, [5,5], [1,1], [3,3], [3,3])\n",
    "    layer = conv2d_maxpool(x, 16, [3,3], [1,1], [2,2], [2,2])\n",
    "    layer = tf.nn.dropout(layer, keep_prob)\n",
    "\n",
    "    # TODO: Apply a Flatten Layer\n",
    "    # Function Definition from Above:\n",
    "    #   flatten(x_tensor)\n",
    "    layer = flatten(layer)\n",
    "#     layer = tf.nn.dropout(layer, keep_prob)\n",
    "\n",
    "    # TODO: Apply 1, 2, or 3 Fully Connected Layers\n",
    "    #    Play around with different number of outputs\n",
    "    # Function Definition from Above:\n",
    "    #   fully_conn(x_tensor, num_outputs)\n",
    "#     layer = fully_conn(layer, 64)\n",
    "#     layer = fully_conn(layer, 32)\n",
    "    layer = fully_conn(layer, 128)\n",
    "    layer = fully_conn(layer, 64)\n",
    "#     layer = tf.nn.dropout(layer, keep_prob)\n",
    "    \n",
    "    # TODO: Apply an Output Layer\n",
    "    #    Set this to the number of classes\n",
    "    # Function Definition from Above:\n",
    "    #   output(x_tensor, num_outputs)\n",
    "    layer = output(layer, 10)\n",
    "    \n",
    "    # TODO: return output\n",
    "    return layer\n",
    "\n",
    "\n",
    "\"\"\"\n",
    "DON'T MODIFY ANYTHING IN THIS CELL THAT IS BELOW THIS LINE\n",
    "\"\"\"\n",
    "\n",
    "##############################\n",
    "## Build the Neural Network ##\n",
    "##############################\n",
    "\n",
    "# Remove previous weights, bias, inputs, etc..\n",
    "tf.reset_default_graph()\n",
    "\n",
    "# Inputs\n",
    "x = neural_net_image_input((32, 32, 3))\n",
    "y = neural_net_label_input(10)\n",
    "keep_prob = neural_net_keep_prob_input()\n",
    "\n",
    "# Model\n",
    "logits = conv_net(x, keep_prob)\n",
    "\n",
    "# Name logits Tensor, so that is can be loaded from disk after training\n",
    "logits = tf.identity(logits, name='logits')\n",
    "\n",
    "# Loss and Optimizer\n",
    "cost = tf.reduce_mean(tf.nn.softmax_cross_entropy_with_logits(logits=logits, labels=y))\n",
    "optimizer = tf.train.AdamOptimizer().minimize(cost)\n",
    "\n",
    "# Accuracy\n",
    "correct_pred = tf.equal(tf.argmax(logits, 1), tf.argmax(y, 1))\n",
    "accuracy = tf.reduce_mean(tf.cast(correct_pred, tf.float32), name='accuracy')\n",
    "\n",
    "tests.test_conv_net(conv_net)"
   ]
  },
  {
   "cell_type": "markdown",
   "metadata": {
    "deletable": true,
    "editable": true
   },
   "source": [
    "## Train the Neural Network\n",
    "### Single Optimization\n",
    "Implement the function `train_neural_network` to do a single optimization.  The optimization should use `optimizer` to optimize in `session` with a `feed_dict` of the following:\n",
    "* `x` for image input\n",
    "* `y` for labels\n",
    "* `keep_prob` for keep probability for dropout\n",
    "\n",
    "This function will be called for each batch, so `tf.global_variables_initializer()` has already been called.\n",
    "\n",
    "Note: Nothing needs to be returned. This function is only optimizing the neural network."
   ]
  },
  {
   "cell_type": "code",
   "execution_count": 13,
   "metadata": {
    "collapsed": false,
    "deletable": true,
    "editable": true
   },
   "outputs": [
    {
     "name": "stdout",
     "output_type": "stream",
     "text": [
      "Tests Passed\n"
     ]
    }
   ],
   "source": [
    "def train_neural_network(session, optimizer, keep_probability, feature_batch, label_batch):\n",
    "    \"\"\"\n",
    "    Optimize the session on a batch of images and labels\n",
    "    : session: Current TensorFlow session\n",
    "    : optimizer: TensorFlow optimizer function\n",
    "    : keep_probability: keep probability\n",
    "    : feature_batch: Batch of Numpy image data\n",
    "    : label_batch: Batch of Numpy label data\n",
    "    \"\"\"\n",
    "    return session.run(optimizer, feed_dict={\n",
    "        x: feature_batch, \n",
    "        y: label_batch, \n",
    "        keep_prob: keep_probability})\n",
    "\n",
    "\n",
    "\"\"\"\n",
    "DON'T MODIFY ANYTHING IN THIS CELL THAT IS BELOW THIS LINE\n",
    "\"\"\"\n",
    "tests.test_train_nn(train_neural_network)"
   ]
  },
  {
   "cell_type": "markdown",
   "metadata": {
    "deletable": true,
    "editable": true
   },
   "source": [
    "### Show Stats\n",
    "Implement the function `print_stats` to print loss and validation accuracy.  Use the global variables `valid_features` and `valid_labels` to calculate validation accuracy.  Use a keep probability of `1.0` to calculate the loss and validation accuracy."
   ]
  },
  {
   "cell_type": "code",
   "execution_count": 14,
   "metadata": {
    "collapsed": false,
    "deletable": true,
    "editable": true
   },
   "outputs": [],
   "source": [
    "def print_stats(session, feature_batch, label_batch, cost, accuracy):\n",
    "    \"\"\"\n",
    "    Print information about loss and validation accuracy\n",
    "    : session: Current TensorFlow session\n",
    "    : feature_batch: Batch of Numpy image data\n",
    "    : label_batch: Batch of Numpy label data\n",
    "    : cost: TensorFlow cost function\n",
    "    : accuracy: TensorFlow accuracy function\n",
    "    \"\"\"\n",
    "    # Calculate loss\n",
    "    loss = sess.run(cost, feed_dict={\n",
    "        x: feature_batch,\n",
    "        y: label_batch,\n",
    "        keep_prob: 1.0})\n",
    "    \n",
    "    # Calculate accuracy\n",
    "    validation_accuracy = sess.run(accuracy, feed_dict={\n",
    "        x: valid_features,\n",
    "        y: valid_labels,\n",
    "        keep_prob: 1.0})\n",
    "    print (\"Loss: {} \\t Accuracy: {}\".format(loss, validation_accuracy))\n",
    "\n",
    "    pass"
   ]
  },
  {
   "cell_type": "markdown",
   "metadata": {
    "deletable": true,
    "editable": true
   },
   "source": [
    "### Hyperparameters\n",
    "Tune the following parameters:\n",
    "* Set `epochs` to the number of iterations until the network stops learning or start overfitting\n",
    "* Set `batch_size` to the highest number that your machine has memory for.  Most people set them to common sizes of memory:\n",
    " * 64\n",
    " * 128\n",
    " * 256\n",
    " * ...\n",
    "* Set `keep_probability` to the probability of keeping a node using dropout"
   ]
  },
  {
   "cell_type": "code",
   "execution_count": 15,
   "metadata": {
    "collapsed": true,
    "deletable": true,
    "editable": true
   },
   "outputs": [],
   "source": [
    "# TODO: Tune Parameters\n",
    "epochs = 35\n",
    "batch_size = 128\n",
    "keep_probability = 0.5"
   ]
  },
  {
   "cell_type": "markdown",
   "metadata": {
    "deletable": true,
    "editable": true
   },
   "source": [
    "### Train on a Single CIFAR-10 Batch\n",
    "Instead of training the neural network on all the CIFAR-10 batches of data, let's use a single batch. This should save time while you iterate on the model to get a better accuracy.  Once the final validation accuracy is 50% or greater, run the model on all the data in the next section."
   ]
  },
  {
   "cell_type": "code",
   "execution_count": 16,
   "metadata": {
    "collapsed": false,
    "deletable": true,
    "editable": true
   },
   "outputs": [
    {
     "name": "stdout",
     "output_type": "stream",
     "text": [
      "Checking the Training on a Single Batch...\n",
      "Epoch  1, CIFAR-10 Batch 1:  Loss: 2.2160732746124268 \t Accuracy: 0.27880001068115234\n",
      "Epoch  2, CIFAR-10 Batch 1:  Loss: 2.0621466636657715 \t Accuracy: 0.3571999967098236\n",
      "Epoch  3, CIFAR-10 Batch 1:  Loss: 1.8875668048858643 \t Accuracy: 0.39959999918937683\n",
      "Epoch  4, CIFAR-10 Batch 1:  Loss: 1.770277976989746 \t Accuracy: 0.42419999837875366\n",
      "Epoch  5, CIFAR-10 Batch 1:  Loss: 1.6244789361953735 \t Accuracy: 0.4449999928474426\n",
      "Epoch  6, CIFAR-10 Batch 1:  Loss: 1.510005235671997 \t Accuracy: 0.4668000042438507\n",
      "Epoch  7, CIFAR-10 Batch 1:  Loss: 1.4153757095336914 \t Accuracy: 0.4796000123023987\n",
      "Epoch  8, CIFAR-10 Batch 1:  Loss: 1.329405426979065 \t Accuracy: 0.4893999993801117\n",
      "Epoch  9, CIFAR-10 Batch 1:  Loss: 1.2221708297729492 \t Accuracy: 0.4986000061035156\n",
      "Epoch 10, CIFAR-10 Batch 1:  Loss: 1.148735761642456 \t Accuracy: 0.5045999884605408\n",
      "Epoch 11, CIFAR-10 Batch 1:  Loss: 1.081697702407837 \t Accuracy: 0.5149999856948853\n",
      "Epoch 12, CIFAR-10 Batch 1:  Loss: 1.0461763143539429 \t Accuracy: 0.5174000263214111\n",
      "Epoch 13, CIFAR-10 Batch 1:  Loss: 0.949280858039856 \t Accuracy: 0.5288000106811523\n",
      "Epoch 14, CIFAR-10 Batch 1:  Loss: 0.9252729415893555 \t Accuracy: 0.5356000065803528\n",
      "Epoch 15, CIFAR-10 Batch 1:  Loss: 0.8840707540512085 \t Accuracy: 0.5351999998092651\n",
      "Epoch 16, CIFAR-10 Batch 1:  Loss: 0.8811072111129761 \t Accuracy: 0.5343999862670898\n",
      "Epoch 17, CIFAR-10 Batch 1:  Loss: 0.8452457189559937 \t Accuracy: 0.5389999747276306\n",
      "Epoch 18, CIFAR-10 Batch 1:  Loss: 0.8200529217720032 \t Accuracy: 0.5400000214576721\n",
      "Epoch 19, CIFAR-10 Batch 1:  Loss: 0.7571942210197449 \t Accuracy: 0.5486000180244446\n",
      "Epoch 20, CIFAR-10 Batch 1:  Loss: 0.7393500208854675 \t Accuracy: 0.5472000241279602\n",
      "Epoch 21, CIFAR-10 Batch 1:  Loss: 0.6858813166618347 \t Accuracy: 0.5551999807357788\n",
      "Epoch 22, CIFAR-10 Batch 1:  Loss: 0.6497225761413574 \t Accuracy: 0.5440000295639038\n",
      "Epoch 23, CIFAR-10 Batch 1:  Loss: 0.6231971383094788 \t Accuracy: 0.5486000180244446\n",
      "Epoch 24, CIFAR-10 Batch 1:  Loss: 0.5512887239456177 \t Accuracy: 0.550000011920929\n",
      "Epoch 25, CIFAR-10 Batch 1:  Loss: 0.4999768137931824 \t Accuracy: 0.5544000267982483\n",
      "Epoch 26, CIFAR-10 Batch 1:  Loss: 0.47117695212364197 \t Accuracy: 0.5598000288009644\n",
      "Epoch 27, CIFAR-10 Batch 1:  Loss: 0.41516590118408203 \t Accuracy: 0.5515999794006348\n",
      "Epoch 28, CIFAR-10 Batch 1:  Loss: 0.3874198794364929 \t Accuracy: 0.545199990272522\n",
      "Epoch 29, CIFAR-10 Batch 1:  Loss: 0.37713685631752014 \t Accuracy: 0.5533999800682068\n",
      "Epoch 30, CIFAR-10 Batch 1:  Loss: 0.34017491340637207 \t Accuracy: 0.550000011920929\n",
      "Epoch 31, CIFAR-10 Batch 1:  Loss: 0.31652411818504333 \t Accuracy: 0.5464000105857849\n",
      "Epoch 32, CIFAR-10 Batch 1:  Loss: 0.30254948139190674 \t Accuracy: 0.5564000010490417\n",
      "Epoch 33, CIFAR-10 Batch 1:  Loss: 0.2797694206237793 \t Accuracy: 0.5496000051498413\n",
      "Epoch 34, CIFAR-10 Batch 1:  Loss: 0.24390225112438202 \t Accuracy: 0.5582000017166138\n",
      "Epoch 35, CIFAR-10 Batch 1:  Loss: 0.2474265992641449 \t Accuracy: 0.5586000084877014\n"
     ]
    }
   ],
   "source": [
    "\"\"\"\n",
    "DON'T MODIFY ANYTHING IN THIS CELL\n",
    "\"\"\"\n",
    "print('Checking the Training on a Single Batch...')\n",
    "with tf.Session() as sess:\n",
    "    # Initializing the variables\n",
    "    sess.run(tf.global_variables_initializer())\n",
    "    \n",
    "    # Training cycle\n",
    "    for epoch in range(epochs):\n",
    "        batch_i = 1\n",
    "        for batch_features, batch_labels in helper.load_preprocess_training_batch(batch_i, batch_size):\n",
    "#             print (np.mean(batch_features), np.std(batch_features), np.min(batch_features), np.max(batch_features))\n",
    "            train_neural_network(sess, optimizer, keep_probability, batch_features, batch_labels)\n",
    "        print('Epoch {:>2}, CIFAR-10 Batch {}:  '.format(epoch + 1, batch_i), end='')\n",
    "        print_stats(sess, batch_features, batch_labels, cost, accuracy)"
   ]
  },
  {
   "cell_type": "markdown",
   "metadata": {
    "deletable": true,
    "editable": true
   },
   "source": [
    "### Fully Train the Model\n",
    "Now that you got a good accuracy with a single CIFAR-10 batch, try it with all five batches."
   ]
  },
  {
   "cell_type": "code",
   "execution_count": 18,
   "metadata": {
    "collapsed": false,
    "deletable": true,
    "editable": true
   },
   "outputs": [
    {
     "name": "stdout",
     "output_type": "stream",
     "text": [
      "Training...\n",
      "Epoch  1, CIFAR-10 Batch 1:  Loss: 2.2461647987365723 \t Accuracy: 0.2777999937534332\n",
      "Epoch  1, CIFAR-10 Batch 2:  Loss: 1.8713047504425049 \t Accuracy: 0.34880000352859497\n",
      "Epoch  1, CIFAR-10 Batch 3:  Loss: 1.6517499685287476 \t Accuracy: 0.38019999861717224\n",
      "Epoch  1, CIFAR-10 Batch 4:  Loss: 1.607591986656189 \t Accuracy: 0.40959998965263367\n",
      "Epoch  1, CIFAR-10 Batch 5:  Loss: 1.6139724254608154 \t Accuracy: 0.4415999948978424\n",
      "Epoch  2, CIFAR-10 Batch 1:  Loss: 1.6716060638427734 \t Accuracy: 0.459199994802475\n",
      "Epoch  2, CIFAR-10 Batch 2:  Loss: 1.466829776763916 \t Accuracy: 0.48179998993873596\n",
      "Epoch  2, CIFAR-10 Batch 3:  Loss: 1.183964729309082 \t Accuracy: 0.4851999878883362\n",
      "Epoch  2, CIFAR-10 Batch 4:  Loss: 1.3523247241973877 \t Accuracy: 0.5034000277519226\n",
      "Epoch  2, CIFAR-10 Batch 5:  Loss: 1.42544424533844 \t Accuracy: 0.5041999816894531\n",
      "Epoch  3, CIFAR-10 Batch 1:  Loss: 1.4789236783981323 \t Accuracy: 0.5166000127792358\n",
      "Epoch  3, CIFAR-10 Batch 2:  Loss: 1.243813157081604 \t Accuracy: 0.5267999768257141\n",
      "Epoch  3, CIFAR-10 Batch 3:  Loss: 1.022606611251831 \t Accuracy: 0.5293999910354614\n",
      "Epoch  3, CIFAR-10 Batch 4:  Loss: 1.2457466125488281 \t Accuracy: 0.5410000085830688\n",
      "Epoch  3, CIFAR-10 Batch 5:  Loss: 1.2644160985946655 \t Accuracy: 0.5397999882698059\n",
      "Epoch  4, CIFAR-10 Batch 1:  Loss: 1.325095534324646 \t Accuracy: 0.5414000153541565\n",
      "Epoch  4, CIFAR-10 Batch 2:  Loss: 1.1488481760025024 \t Accuracy: 0.5442000031471252\n",
      "Epoch  4, CIFAR-10 Batch 3:  Loss: 0.8886470794677734 \t Accuracy: 0.5464000105857849\n",
      "Epoch  4, CIFAR-10 Batch 4:  Loss: 1.1478374004364014 \t Accuracy: 0.557200014591217\n",
      "Epoch  4, CIFAR-10 Batch 5:  Loss: 1.1721619367599487 \t Accuracy: 0.5544000267982483\n",
      "Epoch  5, CIFAR-10 Batch 1:  Loss: 1.230442762374878 \t Accuracy: 0.5609999895095825\n",
      "Epoch  5, CIFAR-10 Batch 2:  Loss: 1.079918622970581 \t Accuracy: 0.5666000247001648\n",
      "Epoch  5, CIFAR-10 Batch 3:  Loss: 0.8170469403266907 \t Accuracy: 0.5600000023841858\n",
      "Epoch  5, CIFAR-10 Batch 4:  Loss: 1.0244038105010986 \t Accuracy: 0.5763999819755554\n",
      "Epoch  5, CIFAR-10 Batch 5:  Loss: 1.0540663003921509 \t Accuracy: 0.5663999915122986\n",
      "Epoch  6, CIFAR-10 Batch 1:  Loss: 1.1725929975509644 \t Accuracy: 0.5748000144958496\n",
      "Epoch  6, CIFAR-10 Batch 2:  Loss: 0.9859125018119812 \t Accuracy: 0.5788000226020813\n",
      "Epoch  6, CIFAR-10 Batch 3:  Loss: 0.7497906684875488 \t Accuracy: 0.5752000212669373\n",
      "Epoch  6, CIFAR-10 Batch 4:  Loss: 0.9456199407577515 \t Accuracy: 0.5759999752044678\n",
      "Epoch  6, CIFAR-10 Batch 5:  Loss: 0.949981689453125 \t Accuracy: 0.573199987411499\n",
      "Epoch  7, CIFAR-10 Batch 1:  Loss: 1.062962532043457 \t Accuracy: 0.5892000198364258\n",
      "Epoch  7, CIFAR-10 Batch 2:  Loss: 0.9051610827445984 \t Accuracy: 0.5820000171661377\n",
      "Epoch  7, CIFAR-10 Batch 3:  Loss: 0.6774202585220337 \t Accuracy: 0.5809999704360962\n",
      "Epoch  7, CIFAR-10 Batch 4:  Loss: 0.8414627313613892 \t Accuracy: 0.5842000246047974\n",
      "Epoch  7, CIFAR-10 Batch 5:  Loss: 0.8824011087417603 \t Accuracy: 0.5884000062942505\n",
      "Epoch  8, CIFAR-10 Batch 1:  Loss: 0.9749871492385864 \t Accuracy: 0.5867999792098999\n",
      "Epoch  8, CIFAR-10 Batch 2:  Loss: 0.834751307964325 \t Accuracy: 0.6019999980926514\n",
      "Epoch  8, CIFAR-10 Batch 3:  Loss: 0.6276187896728516 \t Accuracy: 0.5935999751091003\n",
      "Epoch  8, CIFAR-10 Batch 4:  Loss: 0.7568904161453247 \t Accuracy: 0.6032000184059143\n",
      "Epoch  8, CIFAR-10 Batch 5:  Loss: 0.7811209559440613 \t Accuracy: 0.5964000225067139\n",
      "Epoch  9, CIFAR-10 Batch 1:  Loss: 0.9880908727645874 \t Accuracy: 0.5997999906539917\n",
      "Epoch  9, CIFAR-10 Batch 2:  Loss: 0.7964397668838501 \t Accuracy: 0.6064000129699707\n",
      "Epoch  9, CIFAR-10 Batch 3:  Loss: 0.5325068235397339 \t Accuracy: 0.59579998254776\n",
      "Epoch  9, CIFAR-10 Batch 4:  Loss: 0.7108046412467957 \t Accuracy: 0.6097999811172485\n",
      "Epoch  9, CIFAR-10 Batch 5:  Loss: 0.7140935659408569 \t Accuracy: 0.6019999980926514\n",
      "Epoch 10, CIFAR-10 Batch 1:  Loss: 0.8569852709770203 \t Accuracy: 0.604200005531311\n",
      "Epoch 10, CIFAR-10 Batch 2:  Loss: 0.7485418319702148 \t Accuracy: 0.6096000075340271\n",
      "Epoch 10, CIFAR-10 Batch 3:  Loss: 0.5366767644882202 \t Accuracy: 0.6078000068664551\n",
      "Epoch 10, CIFAR-10 Batch 4:  Loss: 0.6222490668296814 \t Accuracy: 0.6164000034332275\n",
      "Epoch 10, CIFAR-10 Batch 5:  Loss: 0.6599220037460327 \t Accuracy: 0.6047999858856201\n",
      "Epoch 11, CIFAR-10 Batch 1:  Loss: 0.8454699516296387 \t Accuracy: 0.6137999892234802\n",
      "Epoch 11, CIFAR-10 Batch 2:  Loss: 0.6400694847106934 \t Accuracy: 0.6176000237464905\n",
      "Epoch 11, CIFAR-10 Batch 3:  Loss: 0.5215306282043457 \t Accuracy: 0.6118000149726868\n",
      "Epoch 11, CIFAR-10 Batch 4:  Loss: 0.5668924450874329 \t Accuracy: 0.6155999898910522\n",
      "Epoch 11, CIFAR-10 Batch 5:  Loss: 0.6179722547531128 \t Accuracy: 0.607200026512146\n",
      "Epoch 12, CIFAR-10 Batch 1:  Loss: 0.7445383667945862 \t Accuracy: 0.6133999824523926\n",
      "Epoch 12, CIFAR-10 Batch 2:  Loss: 0.6231419444084167 \t Accuracy: 0.6218000054359436\n",
      "Epoch 12, CIFAR-10 Batch 3:  Loss: 0.4440198838710785 \t Accuracy: 0.6177999973297119\n",
      "Epoch 12, CIFAR-10 Batch 4:  Loss: 0.501546323299408 \t Accuracy: 0.6254000067710876\n",
      "Epoch 12, CIFAR-10 Batch 5:  Loss: 0.5471886396408081 \t Accuracy: 0.6128000020980835\n",
      "Epoch 13, CIFAR-10 Batch 1:  Loss: 0.7339886426925659 \t Accuracy: 0.6204000115394592\n",
      "Epoch 13, CIFAR-10 Batch 2:  Loss: 0.580572247505188 \t Accuracy: 0.6204000115394592\n",
      "Epoch 13, CIFAR-10 Batch 3:  Loss: 0.4086624085903168 \t Accuracy: 0.6177999973297119\n",
      "Epoch 13, CIFAR-10 Batch 4:  Loss: 0.44599324464797974 \t Accuracy: 0.6331999897956848\n",
      "Epoch 13, CIFAR-10 Batch 5:  Loss: 0.5523908734321594 \t Accuracy: 0.614799976348877\n",
      "Epoch 14, CIFAR-10 Batch 1:  Loss: 0.7144952416419983 \t Accuracy: 0.616599977016449\n",
      "Epoch 14, CIFAR-10 Batch 2:  Loss: 0.49845457077026367 \t Accuracy: 0.6258000135421753\n",
      "Epoch 14, CIFAR-10 Batch 3:  Loss: 0.37378913164138794 \t Accuracy: 0.6226000189781189\n",
      "Epoch 14, CIFAR-10 Batch 4:  Loss: 0.39824938774108887 \t Accuracy: 0.6281999945640564\n",
      "Epoch 14, CIFAR-10 Batch 5:  Loss: 0.4894060492515564 \t Accuracy: 0.6222000122070312\n",
      "Epoch 15, CIFAR-10 Batch 1:  Loss: 0.6600466966629028 \t Accuracy: 0.6281999945640564\n",
      "Epoch 15, CIFAR-10 Batch 2:  Loss: 0.49857693910598755 \t Accuracy: 0.626800000667572\n",
      "Epoch 15, CIFAR-10 Batch 3:  Loss: 0.3587419092655182 \t Accuracy: 0.6237999796867371\n",
      "Epoch 15, CIFAR-10 Batch 4:  Loss: 0.3813686966896057 \t Accuracy: 0.6320000290870667\n",
      "Epoch 15, CIFAR-10 Batch 5:  Loss: 0.4880381226539612 \t Accuracy: 0.6195999979972839\n"
     ]
    }
   ],
   "source": [
    "epochs = 15\n",
    "\n",
    "\"\"\"\n",
    "DON'T MODIFY ANYTHING IN THIS CELL\n",
    "\"\"\"\n",
    "save_model_path = './image_classification'\n",
    "\n",
    "print('Training...')\n",
    "with tf.Session() as sess:\n",
    "    # Initializing the variables\n",
    "    sess.run(tf.global_variables_initializer())\n",
    "    \n",
    "    # Training cycle\n",
    "    for epoch in range(epochs):\n",
    "        # Loop over all batches\n",
    "        n_batches = 5\n",
    "        for batch_i in range(1, n_batches + 1):\n",
    "            for batch_features, batch_labels in helper.load_preprocess_training_batch(batch_i, batch_size):\n",
    "                train_neural_network(sess, optimizer, keep_probability, batch_features, batch_labels)\n",
    "            print('Epoch {:>2}, CIFAR-10 Batch {}:  '.format(epoch + 1, batch_i), end='')\n",
    "            print_stats(sess, batch_features, batch_labels, cost, accuracy)\n",
    "            \n",
    "    # Save Model\n",
    "    saver = tf.train.Saver()\n",
    "    save_path = saver.save(sess, save_model_path)"
   ]
  },
  {
   "cell_type": "markdown",
   "metadata": {
    "deletable": true,
    "editable": true
   },
   "source": [
    "# Checkpoint\n",
    "The model has been saved to disk.\n",
    "## Test Model\n",
    "Test your model against the test dataset.  This will be your final accuracy. You should have an accuracy greater than 50%. If you don't, keep tweaking the model architecture and parameters."
   ]
  },
  {
   "cell_type": "code",
   "execution_count": 19,
   "metadata": {
    "collapsed": false,
    "deletable": true,
    "editable": true
   },
   "outputs": [
    {
     "name": "stdout",
     "output_type": "stream",
     "text": [
      "Testing Accuracy: 0.6153085443037974\n",
      "\n"
     ]
    },
    {
     "data": {
      "image/png": "[encoded data removed]",
      "text/plain": [
       "<matplotlib.figure.Figure at 0x12746c710>"
      ]
     },
     "metadata": {
      "image/png": {
       "height": 319,
       "width": 355
      }
     },
     "output_type": "display_data"
    }
   ],
   "source": [
    "\"\"\"\n",
    "DON'T MODIFY ANYTHING IN THIS CELL\n",
    "\"\"\"\n",
    "%matplotlib inline\n",
    "%config InlineBackend.figure_format = 'retina'\n",
    "\n",
    "import tensorflow as tf\n",
    "import pickle\n",
    "import helper\n",
    "import random\n",
    "\n",
    "# Set batch size if not already set\n",
    "try:\n",
    "    if batch_size:\n",
    "        pass\n",
    "except NameError:\n",
    "    batch_size = 64\n",
    "\n",
    "save_model_path = './image_classification'\n",
    "n_samples = 4\n",
    "top_n_predictions = 3\n",
    "\n",
    "def test_model():\n",
    "    \"\"\"\n",
    "    Test the saved model against the test dataset\n",
    "    \"\"\"\n",
    "\n",
    "    test_features, test_labels = pickle.load(open('preprocess_training.p', mode='rb'))\n",
    "    loaded_graph = tf.Graph()\n",
    "\n",
    "    with tf.Session(graph=loaded_graph) as sess:\n",
    "        # Load model\n",
    "        loader = tf.train.import_meta_graph(save_model_path + '.meta')\n",
    "        loader.restore(sess, save_model_path)\n",
    "\n",
    "        # Get Tensors from loaded model\n",
    "        loaded_x = loaded_graph.get_tensor_by_name('x:0')\n",
    "        loaded_y = loaded_graph.get_tensor_by_name('y:0')\n",
    "        loaded_keep_prob = loaded_graph.get_tensor_by_name('keep_prob:0')\n",
    "        loaded_logits = loaded_graph.get_tensor_by_name('logits:0')\n",
    "        loaded_acc = loaded_graph.get_tensor_by_name('accuracy:0')\n",
    "        \n",
    "        # Get accuracy in batches for memory limitations\n",
    "        test_batch_acc_total = 0\n",
    "        test_batch_count = 0\n",
    "        \n",
    "        for train_feature_batch, train_label_batch in helper.batch_features_labels(test_features, test_labels, batch_size):\n",
    "            test_batch_acc_total += sess.run(\n",
    "                loaded_acc,\n",
    "                feed_dict={loaded_x: train_feature_batch, loaded_y: train_label_batch, loaded_keep_prob: 1.0})\n",
    "            test_batch_count += 1\n",
    "\n",
    "        print('Testing Accuracy: {}\\n'.format(test_batch_acc_total/test_batch_count))\n",
    "\n",
    "        # Print Random Samples\n",
    "        random_test_features, random_test_labels = tuple(zip(*random.sample(list(zip(test_features, test_labels)), n_samples)))\n",
    "        random_test_predictions = sess.run(\n",
    "            tf.nn.top_k(tf.nn.softmax(loaded_logits), top_n_predictions),\n",
    "            feed_dict={loaded_x: random_test_features, loaded_y: random_test_labels, loaded_keep_prob: 1.0})\n",
    "        helper.display_image_predictions(random_test_features, random_test_labels, random_test_predictions)\n",
    "\n",
    "\n",
    "test_model()"
   ]
  },
  {
   "cell_type": "markdown",
   "metadata": {
    "deletable": true,
    "editable": true
   },
   "source": [
    "## Why 50-80% Accuracy?\n",
    "You might be wondering why you can't get an accuracy any higher. First things first, 50% isn't bad for a simple CNN.  Pure guessing would get you 10% accuracy. However, you might notice people are getting scores [well above 80%](http://rodrigob.github.io/are_we_there_yet/build/classification_datasets_results.html#43494641522d3130).  That's because we haven't taught you all there is to know about neural networks. We still need to cover a few more techniques.\n",
    "## Submitting This Project\n",
    "When submitting this project, make sure to run all the cells before saving the notebook.  Save the notebook file as \"dlnd_image_classification.ipynb\" and save it as a HTML file under \"File\" -> \"Download as\".  Include the \"helper.py\" and \"problem_unittests.py\" files in your submission."
   ]
  }
 ],
 "metadata": {
  "kernelspec": {
   "display_name": "Python 3",
   "language": "python",
   "name": "python3"
  },
  "language_info": {
   "codemirror_mode": {
    "name": "ipython",
    "version": 3
   },
   "file_extension": ".py",
   "mimetype": "text/x-python",
   "name": "python",
   "nbconvert_exporter": "python",
   "pygments_lexer": "ipython3",
   "version": "3.5.3"
  }
 },
 "nbformat": 4,
 "nbformat_minor": 0
}
